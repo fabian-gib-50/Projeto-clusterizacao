{
 "cells": [
  {
   "cell_type": "markdown",
   "id": "6c9c6649-5bcb-468c-91f3-9b29b3cb1c64",
   "metadata": {
    "id": "326b6b34-0dd8-407a-af7d-aa0072205754"
   },
   "source": [
    "<center><img alt=\"Dbian Data Scientist\" width=\"100%\" src=\"img/New_banner.png\"></center>\n"
   ]
  },
  {
   "cell_type": "markdown",
   "id": "3350d90c-9d41-41d9-82d0-d4ca3b7f96c6",
   "metadata": {},
   "source": [
    "\n",
    "   ### <strong><em> LinkdIn: By [Dbian.io Data Scientist](https://www.linkedin.com/company/81834844/admin/)<strong> "
   ]
  },
  {
   "cell_type": "markdown",
   "id": "c489cfcd-859c-4cf7-92d5-1ef25689b702",
   "metadata": {
    "id": "c489cfcd-859c-4cf7-92d5-1ef25689b702"
   },
   "source": [
    "## <center><strong> <em>PROJETO DE DATA SCIENTIST \n",
    "___"
   ]
  },
  {
   "cell_type": "markdown",
   "id": "d47ef026-d909-47a6-82cf-4140331f6714",
   "metadata": {},
   "source": [
    "### APRESENTAÇÃO DO PROJETO E OBJETIVOS:\n",
    "\n",
    "  - Esse projeto terá como tema principal, aplicação de modelos estatíscios e matemáticos, para otimização dos dados e aplicação de modelos chave como:\n",
    "    - ***Teste A/B***\n",
    "     - ***Modelos Bayesiano***\n",
    "___"
   ]
  },
  {
   "cell_type": "markdown",
   "id": "df5cfb00-1a72-4b26-9a94-0364f739a16b",
   "metadata": {},
   "source": [
    "### CONTEXTUALIZAÇÃO DOS ESTUDOS:\n",
    "\n",
    "  - Com o aumento da captação de dados e estruturas de banco de informações para tomadas de decisão, há uma grande preocupação sobre a forma de tratamento de todo esse volume de dados. \n",
    "    - Para que uma estrutura de dados possa gerar conhecimento para análise são necessárias etapas de processamento desses dados para obtenção de padrões e insights relevantes para aplicações e construção de modelos que possam predizer algo através de informações geradas a partir dos dados extraídos. \n",
    "    - A demanda por ferramentas que proporcionem a gestão de grandes volumes de DADOS, tem aumentando exponencialmente frente aos diferentes modelos de aplicações e a forma como geramos altíssimo volume de dados.  \n",
    "    - No atual cenário, a estruturação, mineração e extração de informações úteis giram em torno da gestão do conhecimento, que, por sua vez, proporciona vantagem competitiva para as empresas. \n",
    "    - Pensando em modelos de aplicações que como o B.I, analisa eventos e acontecimentos já ocorridos, o trabalho de Data Science, tem como principal premissa, antever-se à fatos e suas possíveis conseguências. \n",
    "    - Toda empresa, não importa o segmento, usa informações para que possam ser mais assertivos e efetivos nas tomadas de decisão. \n",
    "    - Podemos através de informações por exemplo, evitar catástrofes, acidentes, previnir fatos e acontecimentos, mitigar aumento de custos, como também, vender mais e melhor.\n",
    "  "
   ]
  },
  {
   "cell_type": "markdown",
   "id": "7008c7b5-1faa-4b04-ab3d-3129705fa449",
   "metadata": {},
   "source": [
    "\n",
    "<em><h3 style='text-align:; color:black;'> MINERAÇÃO DE DADOS </h3><em>\n",
    "\n",
    "- O pipeline de Data Scientis, têm em seu escopo, o processo de minerar dados, etapa importântíssima para todos os demais processos.\n",
    "    - Mineração de dados é a análise dos conjuntos de dados, com profundidade e com viés exploratório e observacional para encontrar relações inesperadas estruturando resumidamente os dados de forma inovadora, de fácil entendimento e útil para gerar cenarizações e criar modelos de predição.\n",
    "    - O processo de mineração de dados ganha força quando estamos frente a uma imensidão de diferentes fontes de dados com diferentes tipos e volumes. Essas estruturas de dados são como uma grande mina que, a princípio, não aparenta ter nenhum valor. \n",
    "    - A partir do momento que a exploramos aumenta a probabilidade de descobrir metais e pedras preciosas num vasto campo de sedimentos. A ciência de dados entra como um norteador, desenvolvendo inúmeras ferramentas para que a busca por conhecimento concreto se torne cada vez mais eficiente."
   ]
  },
  {
   "cell_type": "markdown",
   "id": "229a19c7-81a0-4244-bfd1-96aaa2f8c1dd",
   "metadata": {
    "id": "229a19c7-81a0-4244-bfd1-96aaa2f8c1dd",
    "tags": []
   },
   "source": [
    "___\n",
    "### <center><strong> <em>APRESENTAÇÃO DOS DETALHES DO PROJETO E SEU OBJETIVO PRINCIPAL<em> <strong></center>\n",
    "   - `ESTUDOS DE CASOS COM TESTE A/B`:\n",
    "\n",
    "    - Questões e/ou Hipóteses\n",
    "    - Descritiva\n",
    "    - Preditiva\n",
    "    - Prescritiva e Cenarização\n",
    "Como roteiro para a pesquisa, é desejável determinar algumas perguntas que podem nortear a análise dos dados que serão relevantes para proposição de valor sobre os resultados do projeto. Uma vez que será utilizada a base de dados de acidentes aeronáuticos no Brasil, parecem ser adequados abordar os seguintes \n",
    "questionamentos durante o processo de análise e descoberta de conhecimento:\n",
    "\n",
    "   - a) Quais são as maiores causas de ocorrências aeronáuticas no Brasil?\n",
    "   - b) Existe uma relação entre o número de acidentes e as etapas que antecedem  as operações e voos? (Pouso, decolagem, voo de cruzeiro)\n",
    "   - c) Existe alguma relação entre regiões ou estados e o número de ocorrências?\n",
    "   - d) Existe relação entre o número de ocorrências e o número de voos?\n",
    "   - e) Qual tipo de aeronave apresenta um maior número de fatos e suas causas?\n",
    "   - f) Número de ocorrências por fabricante, será que há alguma relação que evidência?\n",
    "   - g) As ocorrências com desdobramento de fatalidades têm aumentado ao longo da útima década?\n",
    "Abordagem Preditiva\n",
    "Coma o levantamento dos dadsos, mineração, tratamento e análise, podemos avaliar profundamente os dados é tentar identificar padrões que possam indicar comportamentos futuros, cujo principal objetivo é antecipar-se aos fatos e seus desdobramentos."
   ]
  },
  {
   "cell_type": "markdown",
   "id": "de9f8b71-4c4f-48c1-bab6-64a4e9d7e811",
   "metadata": {},
   "source": [
    "___\n",
    "#### Simulado com hipóteses, técnica de estatística para Teste A/B: \n",
    "   - Existe a forma de pagamento convencional e a empresea implementou uma nova foma de pagamento onde é possível realizar o preenchimento automático dos dados de cartão de crédito.\n",
    "\n",
    "     - ***Objetivos de aplicar teste A/B***: \n",
    "      - Definir se os clientes gastam mais com preenchimento automático da página de checkout do que com o preenchimento manual.\n",
    "   - Métrica: GMV (Gross Margin Revenue) médio\n",
    "\n",
    "- Group A = ***Preencimento automático***\n",
    "- Group B = ***Preenchimento manual***\n",
    "___"
   ]
  },
  {
   "cell_type": "markdown",
   "id": "d230b18a-413e-48ff-9985-94d62e61cb00",
   "metadata": {
    "id": "d230b18a-413e-48ff-9985-94d62e61cb00"
   },
   "source": [
    " <strong>Linguagem de programação principal <em>`PYTHON` & `Livros` de apoio aos projetos e metodologias. <em><strong></center> \n",
    "  - Linguagem de programação nativa `PYTHON` https://www.python.org/\n",
    "  - HTML\n",
    "  - IDE de desenvolvimento do projeto `Jupyter-lab`\n",
    "    - Data Scientist para Negócios\n",
    "    - Python Data Scientist Handbook\n",
    " Obs: \n",
    "    - Para esse projeto em especial, usei formatação de fontes em HTML na IDE Jupyter Lab"
   ]
  },
  {
   "cell_type": "markdown",
   "id": "d8c22d61-28a9-41ce-bf39-e1d3f5bcf1fa",
   "metadata": {},
   "source": [
    "### Etapas dos processos"
   ]
  },
  {
   "cell_type": "markdown",
   "id": "bee19500-8671-4eed-97ee-a2a7142af164",
   "metadata": {},
   "source": [
    "\n",
    "* <strong>Plano de Ações<strong>\n",
    "  - Seleção dos dados;<strong>\n",
    "  - Estração dos dados, muitas vezes de diferentes ambientes;\n",
    "  - Pré-processamento;\n",
    "  - Tranformação e tratamento;\n",
    "  - Data Minning;\n",
    "  - Interpretação;\n",
    "  - Apresentação (StoreTelling);\n"
   ]
  },
  {
   "cell_type": "markdown",
   "id": "009a293b-f4a9-42ec-a037-e7a8f3548b03",
   "metadata": {
    "id": "009a293b-f4a9-42ec-a037-e7a8f3548b03",
    "tags": []
   },
   "source": [
    "### Bibliotecas e ferramentas Python aplicadas nesse prejeto"
   ]
  },
  {
   "cell_type": "code",
   "execution_count": 1,
   "id": "2504d5b1-c37d-4c6d-be2f-8b67215c0be8",
   "metadata": {
    "id": "2504d5b1-c37d-4c6d-be2f-8b67215c0be8"
   },
   "outputs": [],
   "source": [
    "# Import das bibliotecas python\n",
    "\n",
    "import pyforest as pf\n",
    "import pandas as pd\n",
    "import numpy as np\n",
    "import seaborn as sns\n",
    "import matplotlib.pyplot as plt\n",
    "from matplotlib import gridspec\n",
    "from scipy import stats\n",
    "from warnings import simplefilter\n",
    "from statsmodels.stats import api as sms\n",
    "%matplotlib inline"
   ]
  },
  {
   "cell_type": "markdown",
   "id": "86395c08-c9fb-4ae6-92c8-d07b4fc647bc",
   "metadata": {
    "tags": []
   },
   "source": [
    "### Formatações e parâmetrizações para otimizar tempo e processos"
   ]
  },
  {
   "cell_type": "code",
   "execution_count": 2,
   "id": "652bbb6d-2e1d-4fc9-a598-a9b898777ff0",
   "metadata": {
    "tags": []
   },
   "outputs": [
    {
     "data": {
      "application/javascript": [
       "\n",
       "        if (window._pyforest_update_imports_cell) { window._pyforest_update_imports_cell('import sys'); }\n",
       "    "
      ],
      "text/plain": [
       "<IPython.core.display.Javascript object>"
      ]
     },
     "metadata": {},
     "output_type": "display_data"
    }
   ],
   "source": [
    "# Formatando com pd.set_option as views (visões)\n",
    "\n",
    "pd.set_option('display.float_format','{:.2f}'.format)\n",
    "# Sem limites de linhas e colunas para as leituras\n",
    "pd.set_option('display.max_columns', 50)\n",
    "\n",
    "# Definindo a fonte padrão para os plots que serão implementados nesse projeto, bem como mapas e gráficos em geral optei por fonte \"Verdana\" \n",
    "plt.rc('font', family = 'Verdana')\n",
    "\n",
    "# Função para retirar o quadro dos plots - gráficos. \n",
    "def gca():\n",
    "    for posicao in ['right', 'top', 'bottom', 'left']: \n",
    "        plt.gca().spines[posicao].set_visible(False) \n",
    "    return None\n",
    "\n",
    "# Desabilitando Avisos comuns desnecessários\n",
    "if not sys.warnoptions:\n",
    "    import warnings\n",
    "    warnings.simplefilter('ignore')\n",
    "    warnings.simplefilter(action='ignore', category=FutureWarning) "
   ]
  },
  {
   "cell_type": "markdown",
   "id": "d78cf975-6437-48a4-a97b-9e19d6d41444",
   "metadata": {
    "id": "d78cf975-6437-48a4-a97b-9e19d6d41444"
   },
   "source": [
    "### Importando ambos os datasets para os processos propostos\n",
    "  - Farei um check de todos os datates antes de submetê-los a algum tipo de tratamento, preciso me `familiarizar com os dados`.\n"
   ]
  },
  {
   "cell_type": "code",
   "execution_count": 3,
   "id": "9515033b-5500-4a79-8c94-7c2a0e9f9df5",
   "metadata": {
    "tags": []
   },
   "outputs": [
    {
     "name": "stdout",
     "output_type": "stream",
     "text": [
      "Dataset df_train.\n",
      "Dimensoes do treinamento colunas:\t 12\n",
      "Dimensoes do treinamento entradas:\t 550068\n",
      "\n",
      "Dataset df_test.\n",
      "Dimensoes do testes colunas:\t\t 11\n",
      "Dimensoes do testes entradas:\t\t 233599\n"
     ]
    }
   ],
   "source": [
    "# Abrindo o file_path de ambos datasets\n",
    "\n",
    "try: \n",
    "    file_path = (r'./base/dados_train.csv')\n",
    "    df_train = pd.read_csv(file_path).copy()\n",
    "\n",
    "    # Imprimindo dimensões entradas e colunas\n",
    "    print('Dataset df_train.')\n",
    "    print(f'Dimensoes do treinamento colunas:\\t',df_train.shape[1])\n",
    "    print(f'Dimensoes do treinamento entradas:\\t',df_train.shape[0])\n",
    "except: \n",
    "    print(f'Os dados não foram carregados !')\n",
    "    \n",
    "# Abrindo o file_path de ambos datasets\n",
    "\n",
    "try:\n",
    "    file_path = (r'./base/dados_test.csv')\n",
    "    df_test = pd.read_csv(file_path).copy() \n",
    "\n",
    "    # Imprimindo dimensões entradas e colunas\n",
    "    print('')\n",
    "    print('Dataset df_test.')\n",
    "    print(f'Dimensoes do testes colunas:\\t\\t',df_test.shape[1])\n",
    "    print(f'Dimensoes do testes entradas:\\t\\t',df_test.shape[0])\n",
    "except: \n",
    "    print(f'Os dados não foram carregados !')"
   ]
  },
  {
   "cell_type": "code",
   "execution_count": 4,
   "id": "fca516d3-7e3c-4f46-bb11-4a380f418a15",
   "metadata": {
    "tags": []
   },
   "outputs": [
    {
     "data": {
      "text/html": [
       "<div>\n",
       "<style scoped>\n",
       "    .dataframe tbody tr th:only-of-type {\n",
       "        vertical-align: middle;\n",
       "    }\n",
       "\n",
       "    .dataframe tbody tr th {\n",
       "        vertical-align: top;\n",
       "    }\n",
       "\n",
       "    .dataframe thead th {\n",
       "        text-align: right;\n",
       "    }\n",
       "</style>\n",
       "<table border=\"1\" class=\"dataframe\">\n",
       "  <thead>\n",
       "    <tr style=\"text-align: right;\">\n",
       "      <th></th>\n",
       "      <th>User_ID</th>\n",
       "      <th>Product_ID</th>\n",
       "      <th>Gender</th>\n",
       "      <th>Age</th>\n",
       "      <th>Occupation</th>\n",
       "      <th>City_Category</th>\n",
       "      <th>Stay_In_Current_City_Years</th>\n",
       "      <th>Marital_Status</th>\n",
       "      <th>Product_Category_1</th>\n",
       "      <th>Product_Category_2</th>\n",
       "      <th>Product_Category_3</th>\n",
       "      <th>Purchase</th>\n",
       "    </tr>\n",
       "  </thead>\n",
       "  <tbody>\n",
       "    <tr>\n",
       "      <th>0</th>\n",
       "      <td>1000001</td>\n",
       "      <td>P00069042</td>\n",
       "      <td>F</td>\n",
       "      <td>0-17</td>\n",
       "      <td>10</td>\n",
       "      <td>A</td>\n",
       "      <td>2</td>\n",
       "      <td>0</td>\n",
       "      <td>3</td>\n",
       "      <td>NaN</td>\n",
       "      <td>NaN</td>\n",
       "      <td>8370</td>\n",
       "    </tr>\n",
       "    <tr>\n",
       "      <th>1</th>\n",
       "      <td>1000001</td>\n",
       "      <td>P00248942</td>\n",
       "      <td>F</td>\n",
       "      <td>0-17</td>\n",
       "      <td>10</td>\n",
       "      <td>A</td>\n",
       "      <td>2</td>\n",
       "      <td>0</td>\n",
       "      <td>1</td>\n",
       "      <td>6.00</td>\n",
       "      <td>14.00</td>\n",
       "      <td>15200</td>\n",
       "    </tr>\n",
       "    <tr>\n",
       "      <th>2</th>\n",
       "      <td>1000001</td>\n",
       "      <td>P00087842</td>\n",
       "      <td>F</td>\n",
       "      <td>0-17</td>\n",
       "      <td>10</td>\n",
       "      <td>A</td>\n",
       "      <td>2</td>\n",
       "      <td>0</td>\n",
       "      <td>12</td>\n",
       "      <td>NaN</td>\n",
       "      <td>NaN</td>\n",
       "      <td>1422</td>\n",
       "    </tr>\n",
       "    <tr>\n",
       "      <th>3</th>\n",
       "      <td>1000001</td>\n",
       "      <td>P00085442</td>\n",
       "      <td>F</td>\n",
       "      <td>0-17</td>\n",
       "      <td>10</td>\n",
       "      <td>A</td>\n",
       "      <td>2</td>\n",
       "      <td>0</td>\n",
       "      <td>12</td>\n",
       "      <td>14.00</td>\n",
       "      <td>NaN</td>\n",
       "      <td>1057</td>\n",
       "    </tr>\n",
       "    <tr>\n",
       "      <th>4</th>\n",
       "      <td>1000002</td>\n",
       "      <td>P00285442</td>\n",
       "      <td>M</td>\n",
       "      <td>55+</td>\n",
       "      <td>16</td>\n",
       "      <td>C</td>\n",
       "      <td>4+</td>\n",
       "      <td>0</td>\n",
       "      <td>8</td>\n",
       "      <td>NaN</td>\n",
       "      <td>NaN</td>\n",
       "      <td>7969</td>\n",
       "    </tr>\n",
       "  </tbody>\n",
       "</table>\n",
       "</div>"
      ],
      "text/plain": [
       "   User_ID Product_ID Gender   Age  Occupation City_Category  \\\n",
       "0  1000001  P00069042      F  0-17          10             A   \n",
       "1  1000001  P00248942      F  0-17          10             A   \n",
       "2  1000001  P00087842      F  0-17          10             A   \n",
       "3  1000001  P00085442      F  0-17          10             A   \n",
       "4  1000002  P00285442      M   55+          16             C   \n",
       "\n",
       "  Stay_In_Current_City_Years  Marital_Status  Product_Category_1  \\\n",
       "0                          2               0                   3   \n",
       "1                          2               0                   1   \n",
       "2                          2               0                  12   \n",
       "3                          2               0                  12   \n",
       "4                         4+               0                   8   \n",
       "\n",
       "   Product_Category_2  Product_Category_3  Purchase  \n",
       "0                 NaN                 NaN      8370  \n",
       "1                6.00               14.00     15200  \n",
       "2                 NaN                 NaN      1422  \n",
       "3               14.00                 NaN      1057  \n",
       "4                 NaN                 NaN      7969  "
      ]
     },
     "execution_count": 4,
     "metadata": {},
     "output_type": "execute_result"
    }
   ],
   "source": [
    "df_train.head()"
   ]
  },
  {
   "cell_type": "code",
   "execution_count": 5,
   "id": "09d736e5-4118-491c-966e-088d161b75c3",
   "metadata": {
    "tags": []
   },
   "outputs": [
    {
     "name": "stdout",
     "output_type": "stream",
     "text": [
      "<class 'pandas.core.frame.DataFrame'>\n",
      "RangeIndex: 550068 entries, 0 to 550067\n",
      "Data columns (total 12 columns):\n",
      " #   Column                      Non-Null Count   Dtype  \n",
      "---  ------                      --------------   -----  \n",
      " 0   User_ID                     550068 non-null  int64  \n",
      " 1   Product_ID                  550068 non-null  object \n",
      " 2   Gender                      550068 non-null  object \n",
      " 3   Age                         550068 non-null  object \n",
      " 4   Occupation                  550068 non-null  int64  \n",
      " 5   City_Category               550068 non-null  object \n",
      " 6   Stay_In_Current_City_Years  550068 non-null  object \n",
      " 7   Marital_Status              550068 non-null  int64  \n",
      " 8   Product_Category_1          550068 non-null  int64  \n",
      " 9   Product_Category_2          376430 non-null  float64\n",
      " 10  Product_Category_3          166821 non-null  float64\n",
      " 11  Purchase                    550068 non-null  int64  \n",
      "dtypes: float64(2), int64(5), object(5)\n",
      "memory usage: 50.4+ MB\n"
     ]
    }
   ],
   "source": [
    "df_train.info()"
   ]
  },
  {
   "cell_type": "code",
   "execution_count": 6,
   "id": "7f654a6e-4906-47e8-84b9-76dde1b17582",
   "metadata": {
    "tags": []
   },
   "outputs": [
    {
     "data": {
      "text/plain": [
       "User_ID                        5891\n",
       "Product_ID                     3631\n",
       "Gender                            2\n",
       "Age                               7\n",
       "Occupation                       21\n",
       "City_Category                     3\n",
       "Stay_In_Current_City_Years        5\n",
       "Marital_Status                    2\n",
       "Product_Category_1               20\n",
       "Product_Category_2               18\n",
       "Product_Category_3               16\n",
       "Purchase                      18105\n",
       "dtype: int64"
      ]
     },
     "execution_count": 6,
     "metadata": {},
     "output_type": "execute_result"
    }
   ],
   "source": [
    "# Checando os valores únicos de cadas variável\n",
    "\n",
    "df_train.apply(lambda x: len(x.unique()))"
   ]
  },
  {
   "cell_type": "code",
   "execution_count": 7,
   "id": "fcf5041b-02fe-49b8-9e05-5f70be49fefb",
   "metadata": {
    "tags": []
   },
   "outputs": [
    {
     "data": {
      "text/html": [
       "<div>\n",
       "<style scoped>\n",
       "    .dataframe tbody tr th:only-of-type {\n",
       "        vertical-align: middle;\n",
       "    }\n",
       "\n",
       "    .dataframe tbody tr th {\n",
       "        vertical-align: top;\n",
       "    }\n",
       "\n",
       "    .dataframe thead th {\n",
       "        text-align: right;\n",
       "    }\n",
       "</style>\n",
       "<table border=\"1\" class=\"dataframe\">\n",
       "  <thead>\n",
       "    <tr style=\"text-align: right;\">\n",
       "      <th></th>\n",
       "      <th>Total</th>\n",
       "      <th>Percentil</th>\n",
       "    </tr>\n",
       "  </thead>\n",
       "  <tbody>\n",
       "    <tr>\n",
       "      <th>Product_Category_3</th>\n",
       "      <td>383247</td>\n",
       "      <td>0.70</td>\n",
       "    </tr>\n",
       "    <tr>\n",
       "      <th>Product_Category_2</th>\n",
       "      <td>173638</td>\n",
       "      <td>0.32</td>\n",
       "    </tr>\n",
       "    <tr>\n",
       "      <th>User_ID</th>\n",
       "      <td>0</td>\n",
       "      <td>0.00</td>\n",
       "    </tr>\n",
       "    <tr>\n",
       "      <th>Product_ID</th>\n",
       "      <td>0</td>\n",
       "      <td>0.00</td>\n",
       "    </tr>\n",
       "    <tr>\n",
       "      <th>Gender</th>\n",
       "      <td>0</td>\n",
       "      <td>0.00</td>\n",
       "    </tr>\n",
       "    <tr>\n",
       "      <th>Age</th>\n",
       "      <td>0</td>\n",
       "      <td>0.00</td>\n",
       "    </tr>\n",
       "    <tr>\n",
       "      <th>Occupation</th>\n",
       "      <td>0</td>\n",
       "      <td>0.00</td>\n",
       "    </tr>\n",
       "    <tr>\n",
       "      <th>City_Category</th>\n",
       "      <td>0</td>\n",
       "      <td>0.00</td>\n",
       "    </tr>\n",
       "    <tr>\n",
       "      <th>Stay_In_Current_City_Years</th>\n",
       "      <td>0</td>\n",
       "      <td>0.00</td>\n",
       "    </tr>\n",
       "    <tr>\n",
       "      <th>Marital_Status</th>\n",
       "      <td>0</td>\n",
       "      <td>0.00</td>\n",
       "    </tr>\n",
       "    <tr>\n",
       "      <th>Product_Category_1</th>\n",
       "      <td>0</td>\n",
       "      <td>0.00</td>\n",
       "    </tr>\n",
       "    <tr>\n",
       "      <th>Purchase</th>\n",
       "      <td>0</td>\n",
       "      <td>0.00</td>\n",
       "    </tr>\n",
       "  </tbody>\n",
       "</table>\n",
       "</div>"
      ],
      "text/plain": [
       "                             Total  Percentil\n",
       "Product_Category_3          383247       0.70\n",
       "Product_Category_2          173638       0.32\n",
       "User_ID                          0       0.00\n",
       "Product_ID                       0       0.00\n",
       "Gender                           0       0.00\n",
       "Age                              0       0.00\n",
       "Occupation                       0       0.00\n",
       "City_Category                    0       0.00\n",
       "Stay_In_Current_City_Years       0       0.00\n",
       "Marital_Status                   0       0.00\n",
       "Product_Category_1               0       0.00\n",
       "Purchase                         0       0.00"
      ]
     },
     "execution_count": 7,
     "metadata": {},
     "output_type": "execute_result"
    }
   ],
   "source": [
    "# Function 2\n",
    "# Código para checar valores nulos na base ocorrencia\n",
    "\n",
    "total = df_train.isnull().sum().sort_values(ascending=False)\n",
    "percent = df_train.isnull().sum()/df_train.isnull().count().sort_values(ascending=False)\n",
    "missing_data = pd.concat([total, percent], axis=1, sort=False, keys=['Total', 'Percentil'])\n",
    "missing_data[missing_data['Percentil']!=0]\n",
    "\n",
    "missing_data.head( 22 )"
   ]
  },
  {
   "cell_type": "code",
   "execution_count": 8,
   "id": "31373b5f-0d5a-41bf-a7f7-0831f663885d",
   "metadata": {},
   "outputs": [],
   "source": [
    "# Função responsável pelo preenchimento do valores nulos de uma lista de atributos, entrada: Dataframe, Lista de atributos afetados e valor a ser preenchido\n",
    "\n",
    "def preencher_nulos(dataframe, lista_colunas, valor ):\n",
    "    for coluna in lista_colunas:\n",
    "     dataframe[coluna].fillna(0, inplace=True)\n",
    "    \n",
    "preencher_nulos(df_train,['Product_Category_3','Product_Category_2'],'NI') "
   ]
  },
  {
   "cell_type": "code",
   "execution_count": 9,
   "id": "0505f1a0-eac8-4f71-b861-10c0a99f4c14",
   "metadata": {},
   "outputs": [
    {
     "data": {
      "text/html": [
       "<div>\n",
       "<style scoped>\n",
       "    .dataframe tbody tr th:only-of-type {\n",
       "        vertical-align: middle;\n",
       "    }\n",
       "\n",
       "    .dataframe tbody tr th {\n",
       "        vertical-align: top;\n",
       "    }\n",
       "\n",
       "    .dataframe thead th {\n",
       "        text-align: right;\n",
       "    }\n",
       "</style>\n",
       "<table border=\"1\" class=\"dataframe\">\n",
       "  <thead>\n",
       "    <tr style=\"text-align: right;\">\n",
       "      <th></th>\n",
       "      <th>Total</th>\n",
       "      <th>Percentil</th>\n",
       "    </tr>\n",
       "  </thead>\n",
       "  <tbody>\n",
       "    <tr>\n",
       "      <th>User_ID</th>\n",
       "      <td>0</td>\n",
       "      <td>0.00</td>\n",
       "    </tr>\n",
       "    <tr>\n",
       "      <th>Product_ID</th>\n",
       "      <td>0</td>\n",
       "      <td>0.00</td>\n",
       "    </tr>\n",
       "    <tr>\n",
       "      <th>Gender</th>\n",
       "      <td>0</td>\n",
       "      <td>0.00</td>\n",
       "    </tr>\n",
       "    <tr>\n",
       "      <th>Age</th>\n",
       "      <td>0</td>\n",
       "      <td>0.00</td>\n",
       "    </tr>\n",
       "    <tr>\n",
       "      <th>Occupation</th>\n",
       "      <td>0</td>\n",
       "      <td>0.00</td>\n",
       "    </tr>\n",
       "    <tr>\n",
       "      <th>City_Category</th>\n",
       "      <td>0</td>\n",
       "      <td>0.00</td>\n",
       "    </tr>\n",
       "    <tr>\n",
       "      <th>Stay_In_Current_City_Years</th>\n",
       "      <td>0</td>\n",
       "      <td>0.00</td>\n",
       "    </tr>\n",
       "    <tr>\n",
       "      <th>Marital_Status</th>\n",
       "      <td>0</td>\n",
       "      <td>0.00</td>\n",
       "    </tr>\n",
       "    <tr>\n",
       "      <th>Product_Category_1</th>\n",
       "      <td>0</td>\n",
       "      <td>0.00</td>\n",
       "    </tr>\n",
       "    <tr>\n",
       "      <th>Product_Category_2</th>\n",
       "      <td>0</td>\n",
       "      <td>0.00</td>\n",
       "    </tr>\n",
       "    <tr>\n",
       "      <th>Product_Category_3</th>\n",
       "      <td>0</td>\n",
       "      <td>0.00</td>\n",
       "    </tr>\n",
       "    <tr>\n",
       "      <th>Purchase</th>\n",
       "      <td>0</td>\n",
       "      <td>0.00</td>\n",
       "    </tr>\n",
       "  </tbody>\n",
       "</table>\n",
       "</div>"
      ],
      "text/plain": [
       "                            Total  Percentil\n",
       "User_ID                         0       0.00\n",
       "Product_ID                      0       0.00\n",
       "Gender                          0       0.00\n",
       "Age                             0       0.00\n",
       "Occupation                      0       0.00\n",
       "City_Category                   0       0.00\n",
       "Stay_In_Current_City_Years      0       0.00\n",
       "Marital_Status                  0       0.00\n",
       "Product_Category_1              0       0.00\n",
       "Product_Category_2              0       0.00\n",
       "Product_Category_3              0       0.00\n",
       "Purchase                        0       0.00"
      ]
     },
     "execution_count": 9,
     "metadata": {},
     "output_type": "execute_result"
    }
   ],
   "source": [
    "# Limpeza e exclusão dos dados ausentes, assim torno o processo de análise mais eficiente.\n",
    "\n",
    "# df_train.dropna( inplace=True )\n",
    "\n",
    "# Código para checar valores nulos na base ocorrencia\n",
    "\n",
    "total = df_train.isnull().sum().sort_values(ascending=False)\n",
    "percent = df_train.isnull().sum()/df_train.isnull().count().sort_values(ascending=False)\n",
    "missing_data = pd.concat([total, percent], axis=1, sort=False, keys=['Total', 'Percentil'])\n",
    "missing_data[missing_data['Percentil']!=0]\n",
    "\n",
    "missing_data.head( 22 )"
   ]
  },
  {
   "cell_type": "code",
   "execution_count": 10,
   "id": "ed088552-b10e-44b8-bb67-378010805aaf",
   "metadata": {
    "tags": []
   },
   "outputs": [
    {
     "name": "stdout",
     "output_type": "stream",
     "text": [
      "\n",
      "Print variáveis contínuas:\f",
      " ['User_ID', 'Product_ID', 'Occupation', 'Product_Category_1', 'Purchase']\n"
     ]
    }
   ],
   "source": [
    "# Fazendo cópia do database, e passando para a variável \"df_eng\", objeto Python\n",
    "\n",
    "df_train = df_train.copy()\n",
    "\n",
    "var_continuas   = []\n",
    "var_categoricas = []\n",
    "\n",
    "for f in df_train.columns[:]:\n",
    "    \n",
    "    if df_train.nunique()[ f ]>=20:\n",
    "        var_continuas.append( f )\n",
    "    else:\n",
    "        var_categoricas.append( f )\n",
    "        \n",
    "print( f'\\nPrint variáveis contínuas:\\f',var_continuas )"
   ]
  },
  {
   "cell_type": "code",
   "execution_count": 11,
   "id": "0898f8b6-e36e-4b7c-ad29-63b37e853a29",
   "metadata": {
    "tags": []
   },
   "outputs": [
    {
     "data": {
      "text/html": [
       "<div>\n",
       "<style scoped>\n",
       "    .dataframe tbody tr th:only-of-type {\n",
       "        vertical-align: middle;\n",
       "    }\n",
       "\n",
       "    .dataframe tbody tr th {\n",
       "        vertical-align: top;\n",
       "    }\n",
       "\n",
       "    .dataframe thead th {\n",
       "        text-align: right;\n",
       "    }\n",
       "</style>\n",
       "<table border=\"1\" class=\"dataframe\">\n",
       "  <thead>\n",
       "    <tr style=\"text-align: right;\">\n",
       "      <th></th>\n",
       "      <th>User_ID</th>\n",
       "      <th>Product_ID</th>\n",
       "      <th>Occupation</th>\n",
       "      <th>Product_Category_1</th>\n",
       "      <th>Purchase</th>\n",
       "    </tr>\n",
       "  </thead>\n",
       "  <tbody>\n",
       "    <tr>\n",
       "      <th>0</th>\n",
       "      <td>1000001</td>\n",
       "      <td>P00069042</td>\n",
       "      <td>10</td>\n",
       "      <td>3</td>\n",
       "      <td>8370</td>\n",
       "    </tr>\n",
       "    <tr>\n",
       "      <th>1</th>\n",
       "      <td>1000001</td>\n",
       "      <td>P00248942</td>\n",
       "      <td>10</td>\n",
       "      <td>1</td>\n",
       "      <td>15200</td>\n",
       "    </tr>\n",
       "    <tr>\n",
       "      <th>2</th>\n",
       "      <td>1000001</td>\n",
       "      <td>P00087842</td>\n",
       "      <td>10</td>\n",
       "      <td>12</td>\n",
       "      <td>1422</td>\n",
       "    </tr>\n",
       "  </tbody>\n",
       "</table>\n",
       "</div>"
      ],
      "text/plain": [
       "   User_ID Product_ID  Occupation  Product_Category_1  Purchase\n",
       "0  1000001  P00069042          10                   3      8370\n",
       "1  1000001  P00248942          10                   1     15200\n",
       "2  1000001  P00087842          10                  12      1422"
      ]
     },
     "execution_count": 11,
     "metadata": {},
     "output_type": "execute_result"
    }
   ],
   "source": [
    "df_train[var_continuas].head( 3 )"
   ]
  },
  {
   "cell_type": "code",
   "execution_count": 12,
   "id": "c686a9d5-2d21-4694-bdb5-54a98c89cdb1",
   "metadata": {
    "tags": []
   },
   "outputs": [
    {
     "name": "stdout",
     "output_type": "stream",
     "text": [
      "\n",
      "Print variáveis categóricas: ['Gender', 'Age', 'City_Category', 'Stay_In_Current_City_Years', 'Marital_Status', 'Product_Category_2', 'Product_Category_3']\n"
     ]
    }
   ],
   "source": [
    "print( f'\\nPrint variáveis categóricas:',var_categoricas )"
   ]
  },
  {
   "cell_type": "code",
   "execution_count": 13,
   "id": "0386b1b0-8b8a-4130-aa9b-ba7c9531fcd5",
   "metadata": {
    "tags": []
   },
   "outputs": [
    {
     "data": {
      "text/html": [
       "<div>\n",
       "<style scoped>\n",
       "    .dataframe tbody tr th:only-of-type {\n",
       "        vertical-align: middle;\n",
       "    }\n",
       "\n",
       "    .dataframe tbody tr th {\n",
       "        vertical-align: top;\n",
       "    }\n",
       "\n",
       "    .dataframe thead th {\n",
       "        text-align: right;\n",
       "    }\n",
       "</style>\n",
       "<table border=\"1\" class=\"dataframe\">\n",
       "  <thead>\n",
       "    <tr style=\"text-align: right;\">\n",
       "      <th></th>\n",
       "      <th>Gender</th>\n",
       "      <th>Age</th>\n",
       "      <th>City_Category</th>\n",
       "      <th>Stay_In_Current_City_Years</th>\n",
       "      <th>Marital_Status</th>\n",
       "      <th>Product_Category_2</th>\n",
       "      <th>Product_Category_3</th>\n",
       "    </tr>\n",
       "  </thead>\n",
       "  <tbody>\n",
       "    <tr>\n",
       "      <th>0</th>\n",
       "      <td>F</td>\n",
       "      <td>0-17</td>\n",
       "      <td>A</td>\n",
       "      <td>2</td>\n",
       "      <td>0</td>\n",
       "      <td>0.00</td>\n",
       "      <td>0.00</td>\n",
       "    </tr>\n",
       "    <tr>\n",
       "      <th>1</th>\n",
       "      <td>F</td>\n",
       "      <td>0-17</td>\n",
       "      <td>A</td>\n",
       "      <td>2</td>\n",
       "      <td>0</td>\n",
       "      <td>6.00</td>\n",
       "      <td>14.00</td>\n",
       "    </tr>\n",
       "    <tr>\n",
       "      <th>2</th>\n",
       "      <td>F</td>\n",
       "      <td>0-17</td>\n",
       "      <td>A</td>\n",
       "      <td>2</td>\n",
       "      <td>0</td>\n",
       "      <td>0.00</td>\n",
       "      <td>0.00</td>\n",
       "    </tr>\n",
       "  </tbody>\n",
       "</table>\n",
       "</div>"
      ],
      "text/plain": [
       "  Gender   Age City_Category Stay_In_Current_City_Years  Marital_Status  \\\n",
       "0      F  0-17             A                          2               0   \n",
       "1      F  0-17             A                          2               0   \n",
       "2      F  0-17             A                          2               0   \n",
       "\n",
       "   Product_Category_2  Product_Category_3  \n",
       "0                0.00                0.00  \n",
       "1                6.00               14.00  \n",
       "2                0.00                0.00  "
      ]
     },
     "execution_count": 13,
     "metadata": {},
     "output_type": "execute_result"
    }
   ],
   "source": [
    "df_train[var_categoricas].head( 3 )"
   ]
  },
  {
   "cell_type": "markdown",
   "id": "bb4a0162-9b90-4724-8355-a00bbd73ed59",
   "metadata": {
    "tags": []
   },
   "source": [
    "### Estatístico `describe` para entendimento das distribuições\n",
    "  - Atenção especial para variável purchase ( comprar )"
   ]
  },
  {
   "cell_type": "code",
   "execution_count": 14,
   "id": "0ba2fb82-9be8-4d98-bd48-8e7a25b36d1a",
   "metadata": {
    "tags": []
   },
   "outputs": [
    {
     "data": {
      "text/html": [
       "<div>\n",
       "<style scoped>\n",
       "    .dataframe tbody tr th:only-of-type {\n",
       "        vertical-align: middle;\n",
       "    }\n",
       "\n",
       "    .dataframe tbody tr th {\n",
       "        vertical-align: top;\n",
       "    }\n",
       "\n",
       "    .dataframe thead th {\n",
       "        text-align: right;\n",
       "    }\n",
       "</style>\n",
       "<table border=\"1\" class=\"dataframe\">\n",
       "  <thead>\n",
       "    <tr style=\"text-align: right;\">\n",
       "      <th></th>\n",
       "      <th>User_ID</th>\n",
       "      <th>Occupation</th>\n",
       "      <th>Marital_Status</th>\n",
       "      <th>Product_Category_1</th>\n",
       "      <th>Product_Category_2</th>\n",
       "      <th>Product_Category_3</th>\n",
       "      <th>Purchase</th>\n",
       "    </tr>\n",
       "  </thead>\n",
       "  <tbody>\n",
       "    <tr>\n",
       "      <th>mean</th>\n",
       "      <td>1003028.84</td>\n",
       "      <td>8.08</td>\n",
       "      <td>0.41</td>\n",
       "      <td>5.40</td>\n",
       "      <td>6.74</td>\n",
       "      <td>3.84</td>\n",
       "      <td>9263.97</td>\n",
       "    </tr>\n",
       "    <tr>\n",
       "      <th>std</th>\n",
       "      <td>1727.59</td>\n",
       "      <td>6.52</td>\n",
       "      <td>0.49</td>\n",
       "      <td>3.94</td>\n",
       "      <td>6.22</td>\n",
       "      <td>6.25</td>\n",
       "      <td>5023.07</td>\n",
       "    </tr>\n",
       "    <tr>\n",
       "      <th>min</th>\n",
       "      <td>1000001.00</td>\n",
       "      <td>0.00</td>\n",
       "      <td>0.00</td>\n",
       "      <td>1.00</td>\n",
       "      <td>0.00</td>\n",
       "      <td>0.00</td>\n",
       "      <td>12.00</td>\n",
       "    </tr>\n",
       "    <tr>\n",
       "      <th>25%</th>\n",
       "      <td>1001516.00</td>\n",
       "      <td>2.00</td>\n",
       "      <td>0.00</td>\n",
       "      <td>1.00</td>\n",
       "      <td>0.00</td>\n",
       "      <td>0.00</td>\n",
       "      <td>5823.00</td>\n",
       "    </tr>\n",
       "    <tr>\n",
       "      <th>50%</th>\n",
       "      <td>1003077.00</td>\n",
       "      <td>7.00</td>\n",
       "      <td>0.00</td>\n",
       "      <td>5.00</td>\n",
       "      <td>5.00</td>\n",
       "      <td>0.00</td>\n",
       "      <td>8047.00</td>\n",
       "    </tr>\n",
       "    <tr>\n",
       "      <th>75%</th>\n",
       "      <td>1004478.00</td>\n",
       "      <td>14.00</td>\n",
       "      <td>1.00</td>\n",
       "      <td>8.00</td>\n",
       "      <td>14.00</td>\n",
       "      <td>8.00</td>\n",
       "      <td>12054.00</td>\n",
       "    </tr>\n",
       "    <tr>\n",
       "      <th>max</th>\n",
       "      <td>1006040.00</td>\n",
       "      <td>20.00</td>\n",
       "      <td>1.00</td>\n",
       "      <td>20.00</td>\n",
       "      <td>18.00</td>\n",
       "      <td>18.00</td>\n",
       "      <td>23961.00</td>\n",
       "    </tr>\n",
       "  </tbody>\n",
       "</table>\n",
       "</div>"
      ],
      "text/plain": [
       "        User_ID  Occupation  Marital_Status  Product_Category_1  \\\n",
       "mean 1003028.84        8.08            0.41                5.40   \n",
       "std     1727.59        6.52            0.49                3.94   \n",
       "min  1000001.00        0.00            0.00                1.00   \n",
       "25%  1001516.00        2.00            0.00                1.00   \n",
       "50%  1003077.00        7.00            0.00                5.00   \n",
       "75%  1004478.00       14.00            1.00                8.00   \n",
       "max  1006040.00       20.00            1.00               20.00   \n",
       "\n",
       "      Product_Category_2  Product_Category_3  Purchase  \n",
       "mean                6.74                3.84   9263.97  \n",
       "std                 6.22                6.25   5023.07  \n",
       "min                 0.00                0.00     12.00  \n",
       "25%                 0.00                0.00   5823.00  \n",
       "50%                 5.00                0.00   8047.00  \n",
       "75%                14.00                8.00  12054.00  \n",
       "max                18.00               18.00  23961.00  "
      ]
     },
     "execution_count": 14,
     "metadata": {},
     "output_type": "execute_result"
    }
   ],
   "source": [
    "df_train.describe().drop(['count']).round(4)"
   ]
  },
  {
   "cell_type": "code",
   "execution_count": 15,
   "id": "5c833a53-3ad8-4d5d-a5d1-4653bb19656c",
   "metadata": {
    "tags": []
   },
   "outputs": [
    {
     "data": {
      "text/html": [
       "<div>\n",
       "<style scoped>\n",
       "    .dataframe tbody tr th:only-of-type {\n",
       "        vertical-align: middle;\n",
       "    }\n",
       "\n",
       "    .dataframe tbody tr th {\n",
       "        vertical-align: top;\n",
       "    }\n",
       "\n",
       "    .dataframe thead th {\n",
       "        text-align: right;\n",
       "    }\n",
       "</style>\n",
       "<table border=\"1\" class=\"dataframe\">\n",
       "  <thead>\n",
       "    <tr style=\"text-align: right;\">\n",
       "      <th></th>\n",
       "      <th>Product_ID</th>\n",
       "      <th>Gender</th>\n",
       "      <th>Age</th>\n",
       "      <th>City_Category</th>\n",
       "      <th>Stay_In_Current_City_Years</th>\n",
       "    </tr>\n",
       "  </thead>\n",
       "  <tbody>\n",
       "    <tr>\n",
       "      <th>unique</th>\n",
       "      <td>3631</td>\n",
       "      <td>2</td>\n",
       "      <td>7</td>\n",
       "      <td>3</td>\n",
       "      <td>5</td>\n",
       "    </tr>\n",
       "    <tr>\n",
       "      <th>top</th>\n",
       "      <td>P00265242</td>\n",
       "      <td>M</td>\n",
       "      <td>26-35</td>\n",
       "      <td>B</td>\n",
       "      <td>1</td>\n",
       "    </tr>\n",
       "    <tr>\n",
       "      <th>freq</th>\n",
       "      <td>1880</td>\n",
       "      <td>414259</td>\n",
       "      <td>219587</td>\n",
       "      <td>231173</td>\n",
       "      <td>193821</td>\n",
       "    </tr>\n",
       "  </tbody>\n",
       "</table>\n",
       "</div>"
      ],
      "text/plain": [
       "       Product_ID  Gender     Age City_Category Stay_In_Current_City_Years\n",
       "unique       3631       2       7             3                          5\n",
       "top     P00265242       M   26-35             B                          1\n",
       "freq         1880  414259  219587        231173                     193821"
      ]
     },
     "execution_count": 15,
     "metadata": {},
     "output_type": "execute_result"
    }
   ],
   "source": [
    "# Variáveis categóricas \n",
    "\n",
    "df_train.describe(include=['O']).drop(['count']).round(4)"
   ]
  },
  {
   "cell_type": "code",
   "execution_count": 16,
   "id": "d2be9924-ffec-45fa-aaea-7d564fd82a14",
   "metadata": {
    "tags": []
   },
   "outputs": [
    {
     "data": {
      "text/html": [
       "<div>\n",
       "<style scoped>\n",
       "    .dataframe tbody tr th:only-of-type {\n",
       "        vertical-align: middle;\n",
       "    }\n",
       "\n",
       "    .dataframe tbody tr th {\n",
       "        vertical-align: top;\n",
       "    }\n",
       "\n",
       "    .dataframe thead th {\n",
       "        text-align: right;\n",
       "    }\n",
       "</style>\n",
       "<table border=\"1\" class=\"dataframe\">\n",
       "  <thead>\n",
       "    <tr style=\"text-align: right;\">\n",
       "      <th></th>\n",
       "      <th>User_ID</th>\n",
       "      <th>Product_ID</th>\n",
       "      <th>Gender</th>\n",
       "      <th>Age</th>\n",
       "      <th>Occupation</th>\n",
       "      <th>City_Category</th>\n",
       "      <th>Stay_In_Current_City_Years</th>\n",
       "      <th>Marital_Status</th>\n",
       "      <th>Product_Category_1</th>\n",
       "      <th>Product_Category_2</th>\n",
       "      <th>Product_Category_3</th>\n",
       "    </tr>\n",
       "  </thead>\n",
       "  <tbody>\n",
       "    <tr>\n",
       "      <th>0</th>\n",
       "      <td>1000004</td>\n",
       "      <td>P00128942</td>\n",
       "      <td>M</td>\n",
       "      <td>46-50</td>\n",
       "      <td>7</td>\n",
       "      <td>B</td>\n",
       "      <td>2</td>\n",
       "      <td>1</td>\n",
       "      <td>1</td>\n",
       "      <td>11.00</td>\n",
       "      <td>NaN</td>\n",
       "    </tr>\n",
       "    <tr>\n",
       "      <th>1</th>\n",
       "      <td>1000009</td>\n",
       "      <td>P00113442</td>\n",
       "      <td>M</td>\n",
       "      <td>26-35</td>\n",
       "      <td>17</td>\n",
       "      <td>C</td>\n",
       "      <td>0</td>\n",
       "      <td>0</td>\n",
       "      <td>3</td>\n",
       "      <td>5.00</td>\n",
       "      <td>NaN</td>\n",
       "    </tr>\n",
       "    <tr>\n",
       "      <th>2</th>\n",
       "      <td>1000010</td>\n",
       "      <td>P00288442</td>\n",
       "      <td>F</td>\n",
       "      <td>36-45</td>\n",
       "      <td>1</td>\n",
       "      <td>B</td>\n",
       "      <td>4+</td>\n",
       "      <td>1</td>\n",
       "      <td>5</td>\n",
       "      <td>14.00</td>\n",
       "      <td>NaN</td>\n",
       "    </tr>\n",
       "    <tr>\n",
       "      <th>3</th>\n",
       "      <td>1000010</td>\n",
       "      <td>P00145342</td>\n",
       "      <td>F</td>\n",
       "      <td>36-45</td>\n",
       "      <td>1</td>\n",
       "      <td>B</td>\n",
       "      <td>4+</td>\n",
       "      <td>1</td>\n",
       "      <td>4</td>\n",
       "      <td>9.00</td>\n",
       "      <td>NaN</td>\n",
       "    </tr>\n",
       "    <tr>\n",
       "      <th>4</th>\n",
       "      <td>1000011</td>\n",
       "      <td>P00053842</td>\n",
       "      <td>F</td>\n",
       "      <td>26-35</td>\n",
       "      <td>1</td>\n",
       "      <td>C</td>\n",
       "      <td>1</td>\n",
       "      <td>0</td>\n",
       "      <td>4</td>\n",
       "      <td>5.00</td>\n",
       "      <td>12.00</td>\n",
       "    </tr>\n",
       "  </tbody>\n",
       "</table>\n",
       "</div>"
      ],
      "text/plain": [
       "   User_ID Product_ID Gender    Age  Occupation City_Category  \\\n",
       "0  1000004  P00128942      M  46-50           7             B   \n",
       "1  1000009  P00113442      M  26-35          17             C   \n",
       "2  1000010  P00288442      F  36-45           1             B   \n",
       "3  1000010  P00145342      F  36-45           1             B   \n",
       "4  1000011  P00053842      F  26-35           1             C   \n",
       "\n",
       "  Stay_In_Current_City_Years  Marital_Status  Product_Category_1  \\\n",
       "0                          2               1                   1   \n",
       "1                          0               0                   3   \n",
       "2                         4+               1                   5   \n",
       "3                         4+               1                   4   \n",
       "4                          1               0                   4   \n",
       "\n",
       "   Product_Category_2  Product_Category_3  \n",
       "0               11.00                 NaN  \n",
       "1                5.00                 NaN  \n",
       "2               14.00                 NaN  \n",
       "3                9.00                 NaN  \n",
       "4                5.00               12.00  "
      ]
     },
     "execution_count": 16,
     "metadata": {},
     "output_type": "execute_result"
    }
   ],
   "source": [
    "df_test.head()"
   ]
  },
  {
   "cell_type": "code",
   "execution_count": 17,
   "id": "47b75127-20fa-4f00-a82a-bf33917d66fa",
   "metadata": {
    "tags": []
   },
   "outputs": [
    {
     "name": "stdout",
     "output_type": "stream",
     "text": [
      "<class 'pandas.core.frame.DataFrame'>\n",
      "RangeIndex: 233599 entries, 0 to 233598\n",
      "Data columns (total 11 columns):\n",
      " #   Column                      Non-Null Count   Dtype  \n",
      "---  ------                      --------------   -----  \n",
      " 0   User_ID                     233599 non-null  int64  \n",
      " 1   Product_ID                  233599 non-null  object \n",
      " 2   Gender                      233599 non-null  object \n",
      " 3   Age                         233599 non-null  object \n",
      " 4   Occupation                  233599 non-null  int64  \n",
      " 5   City_Category               233599 non-null  object \n",
      " 6   Stay_In_Current_City_Years  233599 non-null  object \n",
      " 7   Marital_Status              233599 non-null  int64  \n",
      " 8   Product_Category_1          233599 non-null  int64  \n",
      " 9   Product_Category_2          161255 non-null  float64\n",
      " 10  Product_Category_3          71037 non-null   float64\n",
      "dtypes: float64(2), int64(4), object(5)\n",
      "memory usage: 19.6+ MB\n"
     ]
    }
   ],
   "source": [
    "df_test.info()"
   ]
  },
  {
   "cell_type": "code",
   "execution_count": 18,
   "id": "5eef5497-2db0-45d3-9f7c-12fcd7a74d50",
   "metadata": {
    "tags": []
   },
   "outputs": [
    {
     "data": {
      "text/html": [
       "<div>\n",
       "<style scoped>\n",
       "    .dataframe tbody tr th:only-of-type {\n",
       "        vertical-align: middle;\n",
       "    }\n",
       "\n",
       "    .dataframe tbody tr th {\n",
       "        vertical-align: top;\n",
       "    }\n",
       "\n",
       "    .dataframe thead th {\n",
       "        text-align: right;\n",
       "    }\n",
       "</style>\n",
       "<table border=\"1\" class=\"dataframe\">\n",
       "  <thead>\n",
       "    <tr style=\"text-align: right;\">\n",
       "      <th></th>\n",
       "      <th>Total</th>\n",
       "      <th>Percentil</th>\n",
       "    </tr>\n",
       "  </thead>\n",
       "  <tbody>\n",
       "    <tr>\n",
       "      <th>Product_Category_3</th>\n",
       "      <td>162562</td>\n",
       "      <td>0.70</td>\n",
       "    </tr>\n",
       "    <tr>\n",
       "      <th>Product_Category_2</th>\n",
       "      <td>72344</td>\n",
       "      <td>0.31</td>\n",
       "    </tr>\n",
       "    <tr>\n",
       "      <th>User_ID</th>\n",
       "      <td>0</td>\n",
       "      <td>0.00</td>\n",
       "    </tr>\n",
       "    <tr>\n",
       "      <th>Product_ID</th>\n",
       "      <td>0</td>\n",
       "      <td>0.00</td>\n",
       "    </tr>\n",
       "    <tr>\n",
       "      <th>Gender</th>\n",
       "      <td>0</td>\n",
       "      <td>0.00</td>\n",
       "    </tr>\n",
       "    <tr>\n",
       "      <th>Age</th>\n",
       "      <td>0</td>\n",
       "      <td>0.00</td>\n",
       "    </tr>\n",
       "    <tr>\n",
       "      <th>Occupation</th>\n",
       "      <td>0</td>\n",
       "      <td>0.00</td>\n",
       "    </tr>\n",
       "    <tr>\n",
       "      <th>City_Category</th>\n",
       "      <td>0</td>\n",
       "      <td>0.00</td>\n",
       "    </tr>\n",
       "    <tr>\n",
       "      <th>Stay_In_Current_City_Years</th>\n",
       "      <td>0</td>\n",
       "      <td>0.00</td>\n",
       "    </tr>\n",
       "    <tr>\n",
       "      <th>Marital_Status</th>\n",
       "      <td>0</td>\n",
       "      <td>0.00</td>\n",
       "    </tr>\n",
       "    <tr>\n",
       "      <th>Product_Category_1</th>\n",
       "      <td>0</td>\n",
       "      <td>0.00</td>\n",
       "    </tr>\n",
       "  </tbody>\n",
       "</table>\n",
       "</div>"
      ],
      "text/plain": [
       "                             Total  Percentil\n",
       "Product_Category_3          162562       0.70\n",
       "Product_Category_2           72344       0.31\n",
       "User_ID                          0       0.00\n",
       "Product_ID                       0       0.00\n",
       "Gender                           0       0.00\n",
       "Age                              0       0.00\n",
       "Occupation                       0       0.00\n",
       "City_Category                    0       0.00\n",
       "Stay_In_Current_City_Years       0       0.00\n",
       "Marital_Status                   0       0.00\n",
       "Product_Category_1               0       0.00"
      ]
     },
     "execution_count": 18,
     "metadata": {},
     "output_type": "execute_result"
    }
   ],
   "source": [
    "# Function 2\n",
    "# Código para checar valores nulos na base ocorrencia\n",
    "\n",
    "total = df_test.isnull().sum().sort_values(ascending=False)\n",
    "percent = df_test.isnull().sum()/df_test.isnull().count().sort_values(ascending=False)\n",
    "missing_data = pd.concat([total, percent], axis=1, sort=False, keys=['Total', 'Percentil'])\n",
    "missing_data[missing_data['Percentil']!=0]\n",
    "\n",
    "missing_data.head( 22 )"
   ]
  },
  {
   "cell_type": "markdown",
   "id": "75ada22a-278d-49bf-be97-ced4cba90a69",
   "metadata": {},
   "source": [
    "___\n",
    "### Processo de análise exploratório ( EDA ) Análise dos dados e estatísca"
   ]
  },
  {
   "cell_type": "markdown",
   "id": "91ff9fd9-e805-4938-a27a-a455a9a1cfbe",
   "metadata": {
    "tags": []
   },
   "source": [
    "#### Estatístico `describe` para entendimento das distribuições\n",
    "  - Entendimento das distribuições médias das variáveis dos dados de test em especial age ( idade média )"
   ]
  },
  {
   "cell_type": "code",
   "execution_count": 19,
   "id": "4ae883e8-1328-4944-bf72-40cccb90e906",
   "metadata": {
    "tags": []
   },
   "outputs": [
    {
     "data": {
      "text/html": [
       "<div>\n",
       "<style scoped>\n",
       "    .dataframe tbody tr th:only-of-type {\n",
       "        vertical-align: middle;\n",
       "    }\n",
       "\n",
       "    .dataframe tbody tr th {\n",
       "        vertical-align: top;\n",
       "    }\n",
       "\n",
       "    .dataframe thead th {\n",
       "        text-align: right;\n",
       "    }\n",
       "</style>\n",
       "<table border=\"1\" class=\"dataframe\">\n",
       "  <thead>\n",
       "    <tr style=\"text-align: right;\">\n",
       "      <th></th>\n",
       "      <th>User_ID</th>\n",
       "      <th>Occupation</th>\n",
       "      <th>Marital_Status</th>\n",
       "      <th>Product_Category_1</th>\n",
       "      <th>Product_Category_2</th>\n",
       "      <th>Product_Category_3</th>\n",
       "    </tr>\n",
       "  </thead>\n",
       "  <tbody>\n",
       "    <tr>\n",
       "      <th>mean</th>\n",
       "      <td>1003029.36</td>\n",
       "      <td>8.09</td>\n",
       "      <td>0.41</td>\n",
       "      <td>5.28</td>\n",
       "      <td>9.85</td>\n",
       "      <td>12.67</td>\n",
       "    </tr>\n",
       "    <tr>\n",
       "      <th>std</th>\n",
       "      <td>1726.51</td>\n",
       "      <td>6.52</td>\n",
       "      <td>0.49</td>\n",
       "      <td>3.74</td>\n",
       "      <td>5.09</td>\n",
       "      <td>4.13</td>\n",
       "    </tr>\n",
       "    <tr>\n",
       "      <th>min</th>\n",
       "      <td>1000001.00</td>\n",
       "      <td>0.00</td>\n",
       "      <td>0.00</td>\n",
       "      <td>1.00</td>\n",
       "      <td>2.00</td>\n",
       "      <td>3.00</td>\n",
       "    </tr>\n",
       "    <tr>\n",
       "      <th>25%</th>\n",
       "      <td>1001527.00</td>\n",
       "      <td>2.00</td>\n",
       "      <td>0.00</td>\n",
       "      <td>1.00</td>\n",
       "      <td>5.00</td>\n",
       "      <td>9.00</td>\n",
       "    </tr>\n",
       "    <tr>\n",
       "      <th>50%</th>\n",
       "      <td>1003070.00</td>\n",
       "      <td>7.00</td>\n",
       "      <td>0.00</td>\n",
       "      <td>5.00</td>\n",
       "      <td>9.00</td>\n",
       "      <td>14.00</td>\n",
       "    </tr>\n",
       "    <tr>\n",
       "      <th>75%</th>\n",
       "      <td>1004477.00</td>\n",
       "      <td>14.00</td>\n",
       "      <td>1.00</td>\n",
       "      <td>8.00</td>\n",
       "      <td>15.00</td>\n",
       "      <td>16.00</td>\n",
       "    </tr>\n",
       "    <tr>\n",
       "      <th>max</th>\n",
       "      <td>1006040.00</td>\n",
       "      <td>20.00</td>\n",
       "      <td>1.00</td>\n",
       "      <td>18.00</td>\n",
       "      <td>18.00</td>\n",
       "      <td>18.00</td>\n",
       "    </tr>\n",
       "  </tbody>\n",
       "</table>\n",
       "</div>"
      ],
      "text/plain": [
       "        User_ID  Occupation  Marital_Status  Product_Category_1  \\\n",
       "mean 1003029.36        8.09            0.41                5.28   \n",
       "std     1726.51        6.52            0.49                3.74   \n",
       "min  1000001.00        0.00            0.00                1.00   \n",
       "25%  1001527.00        2.00            0.00                1.00   \n",
       "50%  1003070.00        7.00            0.00                5.00   \n",
       "75%  1004477.00       14.00            1.00                8.00   \n",
       "max  1006040.00       20.00            1.00               18.00   \n",
       "\n",
       "      Product_Category_2  Product_Category_3  \n",
       "mean                9.85               12.67  \n",
       "std                 5.09                4.13  \n",
       "min                 2.00                3.00  \n",
       "25%                 5.00                9.00  \n",
       "50%                 9.00               14.00  \n",
       "75%                15.00               16.00  \n",
       "max                18.00               18.00  "
      ]
     },
     "execution_count": 19,
     "metadata": {},
     "output_type": "execute_result"
    }
   ],
   "source": [
    "df_test.describe().drop(['count']).round(4)"
   ]
  },
  {
   "cell_type": "code",
   "execution_count": 20,
   "id": "07e5f801-a26f-4ff8-82a8-ff8e1cb42262",
   "metadata": {
    "tags": []
   },
   "outputs": [
    {
     "data": {
      "text/html": [
       "<div>\n",
       "<style scoped>\n",
       "    .dataframe tbody tr th:only-of-type {\n",
       "        vertical-align: middle;\n",
       "    }\n",
       "\n",
       "    .dataframe tbody tr th {\n",
       "        vertical-align: top;\n",
       "    }\n",
       "\n",
       "    .dataframe thead th {\n",
       "        text-align: right;\n",
       "    }\n",
       "</style>\n",
       "<table border=\"1\" class=\"dataframe\">\n",
       "  <thead>\n",
       "    <tr style=\"text-align: right;\">\n",
       "      <th></th>\n",
       "      <th>Product_ID</th>\n",
       "      <th>Gender</th>\n",
       "      <th>Age</th>\n",
       "      <th>City_Category</th>\n",
       "      <th>Stay_In_Current_City_Years</th>\n",
       "    </tr>\n",
       "  </thead>\n",
       "  <tbody>\n",
       "    <tr>\n",
       "      <th>unique</th>\n",
       "      <td>3491</td>\n",
       "      <td>2</td>\n",
       "      <td>7</td>\n",
       "      <td>3</td>\n",
       "      <td>5</td>\n",
       "    </tr>\n",
       "    <tr>\n",
       "      <th>top</th>\n",
       "      <td>P00265242</td>\n",
       "      <td>M</td>\n",
       "      <td>26-35</td>\n",
       "      <td>B</td>\n",
       "      <td>1</td>\n",
       "    </tr>\n",
       "    <tr>\n",
       "      <th>freq</th>\n",
       "      <td>829</td>\n",
       "      <td>175772</td>\n",
       "      <td>93428</td>\n",
       "      <td>98566</td>\n",
       "      <td>82604</td>\n",
       "    </tr>\n",
       "  </tbody>\n",
       "</table>\n",
       "</div>"
      ],
      "text/plain": [
       "       Product_ID  Gender    Age City_Category Stay_In_Current_City_Years\n",
       "unique       3491       2      7             3                          5\n",
       "top     P00265242       M  26-35             B                          1\n",
       "freq          829  175772  93428         98566                      82604"
      ]
     },
     "execution_count": 20,
     "metadata": {},
     "output_type": "execute_result"
    }
   ],
   "source": [
    "# Variáveis categóricas \n",
    "\n",
    "df_test.describe(include=['O']).drop(['count']).round(4)"
   ]
  },
  {
   "cell_type": "markdown",
   "id": "e42a3734-eda7-4249-9e33-a21cfc16c971",
   "metadata": {},
   "source": [
    "### Processos de validação e exploração dos dados:\n",
    "   - Granular com Análise e Estatísca dos Dados (EDA)\n",
    "   - Cenarização com plots"
   ]
  },
  {
   "cell_type": "code",
   "execution_count": 21,
   "id": "ae14b147-9796-4be4-9914-c568b539aae1",
   "metadata": {},
   "outputs": [
    {
     "data": {
      "image/png": "[encoded data removed]",
      "text/plain": [
       "<Figure size 1500x600 with 1 Axes>"
      ]
     },
     "metadata": {},
     "output_type": "display_data"
    }
   ],
   "source": [
    "# Plot da variavel compras (purchase)\n",
    "\n",
    "plt.style.use('default')\n",
    "plt.figure(figsize=(15,6)) \n",
    "gca()\n",
    "sns.distplot(df_train.Purchase, bins = 40, color='Blue')\n",
    "plt.xlabel('Valores gastos em compras', fontsize='12')\n",
    "plt.ylabel('Qtde. de compradores', fontsize='12')\n",
    "plt.title('DISTRIBUIÇÃO DOS VALORES DA VARIÁVEL COMPRAS', pad=25, fontsize='12', color='black');\n",
    "   \n",
    "plt.tight_layout()"
   ]
  },
  {
   "cell_type": "markdown",
   "id": "af6c02d3-37fb-44e2-ada1-38cd08cd5d10",
   "metadata": {},
   "source": [
    "___\n",
    "### Quantitativo por genero de sexo"
   ]
  },
  {
   "cell_type": "code",
   "execution_count": 22,
   "id": "3d241c7b-d3a3-4f84-b3d5-07889cd0aa28",
   "metadata": {
    "tags": []
   },
   "outputs": [
    {
     "name": "stdout",
     "output_type": "stream",
     "text": [
      "Quantitativo da variável (Sexo/Gender) com compras feitas\n",
      "Gender\n",
      "M         414259\n",
      "F         135809\n",
      "Name: count, dtype: int64 \n",
      "\n",
      "Genero masculino corresponde ao total de compras:\t75.31%\n",
      "Genero feminino corresponde ao total de compras:\t24.69%\n"
     ]
    }
   ],
   "source": [
    "# Quantitativo por genero\n",
    "\n",
    "print(f'Quantitativo da variável (Sexo/Gender) com compras feitas')\n",
    "\n",
    "print(df_train[['Gender']].value_counts(ascending=False), '\\n')\n",
    "\n",
    "gender_m  = round( df_train['Gender'].value_counts()[0]/len( df_train ) * 100, 2)\n",
    "gender_f = round( df_train['Gender'].value_counts()[1]/len( df_train ) * 100, 2)\n",
    "\n",
    "print(f'Genero masculino corresponde ao total de compras:\\t{gender_m}%')\n",
    "print(f'Genero feminino corresponde ao total de compras:\\t{gender_f}%' )"
   ]
  },
  {
   "cell_type": "code",
   "execution_count": 23,
   "id": "c8788363-4cf7-4922-acd1-22fc1b6ddee5",
   "metadata": {
    "tags": []
   },
   "outputs": [
    {
     "name": "stdout",
     "output_type": "stream",
     "text": [
      "\n"
     ]
    },
    {
     "data": {
      "image/png": "[encoded data removed]",
      "text/plain": [
       "<Figure size 1000x600 with 1 Axes>"
      ]
     },
     "metadata": {},
     "output_type": "display_data"
    }
   ],
   "source": [
    "# Aplicação de uma gráfico de barras para as Classes Normal e Fraudulentas\n",
    "\n",
    "print( )\n",
    "fig, ax = plt.subplots( figsize=( 10, 6) )\n",
    "\n",
    "gca()\n",
    "sns.countplot( x = 'Gender', palette=sns.color_palette( [ '#90F1EF', '#EF233C' ] ), data=df_train, ax=ax )\n",
    "ax.set_title( 'QUANTITATIVO DAS OPERAÇÕES POR GÊNERO', pad=35, fontsize=10, color='#001233' )\n",
    "plt.xticks( [ 0, 1 ], [ 'Sexo femininio', 'Sexo masculino' ], fontsize=10, color='#637061' )\n",
    "\n",
    "for i in ax.patches:\n",
    "      ax.annotate(format(round( i.get_height()), '.0f')+\"\",\n",
    "                                 (i.get_x() + i.get_width() / 2, \n",
    "                                  i.get_height() + 25),\n",
    "                                  ha='center',\n",
    "                                  va='baseline',\n",
    "                                  fontsize= 12,\n",
    "                                  color='#001233',\n",
    "                                  fontweight='ultralight',\n",
    "                                  xytext=(0, 5),\n",
    "                                  rotation= 0.0,\n",
    "                                  textcoords='offset pixels'), \n",
    "plt.tight_layout ()"
   ]
  },
  {
   "cell_type": "markdown",
   "id": "f0e3f367-3a36-4a04-b34b-3e1bca24b296",
   "metadata": {},
   "source": [
    "### Quantitativo médio de compras por genero"
   ]
  },
  {
   "cell_type": "code",
   "execution_count": 24,
   "id": "7fa078d8-dd9d-422f-abf5-7ab9d2a3526c",
   "metadata": {
    "tags": []
   },
   "outputs": [
    {
     "data": {
      "text/html": [
       "<div>\n",
       "<style scoped>\n",
       "    .dataframe tbody tr th:only-of-type {\n",
       "        vertical-align: middle;\n",
       "    }\n",
       "\n",
       "    .dataframe tbody tr th {\n",
       "        vertical-align: top;\n",
       "    }\n",
       "\n",
       "    .dataframe thead th {\n",
       "        text-align: right;\n",
       "    }\n",
       "</style>\n",
       "<table border=\"1\" class=\"dataframe\">\n",
       "  <thead>\n",
       "    <tr style=\"text-align: right;\">\n",
       "      <th></th>\n",
       "      <th>Purchase</th>\n",
       "    </tr>\n",
       "    <tr>\n",
       "      <th>Gender</th>\n",
       "      <th></th>\n",
       "    </tr>\n",
       "  </thead>\n",
       "  <tbody>\n",
       "    <tr>\n",
       "      <th>M</th>\n",
       "      <td>9437.53</td>\n",
       "    </tr>\n",
       "    <tr>\n",
       "      <th>F</th>\n",
       "      <td>8734.57</td>\n",
       "    </tr>\n",
       "  </tbody>\n",
       "</table>\n",
       "</div>"
      ],
      "text/plain": [
       "        Purchase\n",
       "Gender          \n",
       "M        9437.53\n",
       "F        8734.57"
      ]
     },
     "execution_count": 24,
     "metadata": {},
     "output_type": "execute_result"
    }
   ],
   "source": [
    "df_grouped=df_train[['Gender','Purchase']].groupby(['Gender'], as_index = True).mean().sort_values(by='Purchase',ascending=False)\n",
    "df_grouped"
   ]
  },
  {
   "cell_type": "code",
   "execution_count": 25,
   "id": "2598fa65-1bba-4ec3-9d21-e835fc3d8acb",
   "metadata": {
    "tags": []
   },
   "outputs": [
    {
     "data": {
      "text/plain": [
       "mean    9263.97\n",
       "std     5023.07\n",
       "min       12.00\n",
       "25%     5823.00\n",
       "50%     8047.00\n",
       "75%    12054.00\n",
       "max    23961.00\n",
       "Name: Purchase, dtype: float64"
      ]
     },
     "execution_count": 25,
     "metadata": {},
     "output_type": "execute_result"
    }
   ],
   "source": [
    "### Análise estatística para compreender a distrituíção dos valores da variável compras.\n",
    "\n",
    "df_train.Purchase.describe().drop(['count'])"
   ]
  },
  {
   "cell_type": "code",
   "execution_count": 26,
   "id": "a290a1ea-09e2-4262-b2b3-e536d5ba9c3c",
   "metadata": {},
   "outputs": [
    {
     "data": {
      "image/png": "[encoded data removed]",
      "text/plain": [
       "<Figure size 1200x500 with 1 Axes>"
      ]
     },
     "metadata": {},
     "output_type": "display_data"
    }
   ],
   "source": [
    "# Boxplot para compreender a distribuícão da variável Purchase-compras dos intraquartís IQR\n",
    "\n",
    "plt.figure(figsize =(12, 5))\n",
    "gca()\n",
    "df_train['Purchase'].plot(kind='box', color='green', vert=False)\n",
    "plt.title('DISTRITUIÇÃO DAS FAIXAS DOS QUARTÍS DA VARIÁVEL COMPRAS', pad=0, fontsize=10, color='Blue')\n",
    "\n",
    "plt.tight_layout()"
   ]
  },
  {
   "cell_type": "code",
   "execution_count": 27,
   "id": "68573747-41aa-420b-802f-6ad7b9d7f340",
   "metadata": {},
   "outputs": [
    {
     "name": "stdout",
     "output_type": "stream",
     "text": [
      "Range do interquartil IQR. \n",
      "\n",
      "IQR = Mediana interquartílica:\t 6231.0\n",
      "Limit maximo:\t\t\t 21400.5\n",
      "Limit mínimo:\t\t\t -3115.5\n"
     ]
    }
   ],
   "source": [
    "# Checagem detalhada da variável compras replicando os quartís do bolplot acima para entendimento do plot e as divisoes do quartil\n",
    "\n",
    "q1_compras = df_train.Purchase.quantile(.25)\n",
    "q3_compras = df_train.Purchase.quantile(.75)\n",
    "IQR_compras = q1_compras = q3_compras - q1_compras\n",
    "                                        \n",
    "print('Range do interquartil IQR.',\n",
    "      '\\n\\nIQR = Mediana interquartílica:\\t',IQR_compras)\n",
    "\n",
    "# definindo os limites\n",
    "                                        \n",
    "sup_compras = q3_compras + 1.5 * IQR_compras\n",
    "inf_compras = q1_compras - 1.5 * IQR_compras\n",
    "\n",
    "print(f'Limit maximo:\\t\\t\\t',sup_compras)\n",
    "print(f'Limit mínimo:\\t\\t\\t',inf_compras)"
   ]
  },
  {
   "cell_type": "markdown",
   "id": "766ffe39-9be8-47ed-ae6d-e56f17102d23",
   "metadata": {},
   "source": [
    "### Idade predominante da base ativa com compras feitas pelos usuários "
   ]
  },
  {
   "cell_type": "code",
   "execution_count": 28,
   "id": "c28271cd-d8f1-408c-9774-a53f206eef7b",
   "metadata": {},
   "outputs": [
    {
     "data": {
      "text/plain": [
       "Age\n",
       "26-35    219587\n",
       "36-45    110013\n",
       "18-25     99660\n",
       "46-50     45701\n",
       "51-55     38501\n",
       "55+       21504\n",
       "0-17      15102\n",
       "Name: count, dtype: int64"
      ]
     },
     "execution_count": 28,
     "metadata": {},
     "output_type": "execute_result"
    }
   ],
   "source": [
    "df_train['Age'].value_counts(ascending=False)"
   ]
  },
  {
   "cell_type": "code",
   "execution_count": 29,
   "id": "9f77ac67-df90-4ef9-bd5b-d56db48add47",
   "metadata": {
    "tags": []
   },
   "outputs": [
    {
     "data": {
      "text/plain": [
       "Gender  Age  \n",
       "F       26-35     50752\n",
       "        36-45     27170\n",
       "        18-25     24628\n",
       "        46-50     13199\n",
       "        51-55      9894\n",
       "        0-17       5083\n",
       "        55+        5083\n",
       "M       26-35    168835\n",
       "        36-45     82843\n",
       "        18-25     75032\n",
       "        46-50     32502\n",
       "        51-55     28607\n",
       "        55+       16421\n",
       "        0-17      10019\n",
       "Name: count, dtype: int64"
      ]
     },
     "execution_count": 29,
     "metadata": {},
     "output_type": "execute_result"
    }
   ],
   "source": [
    "df_train.groupby('Gender')['Age'].value_counts()"
   ]
  },
  {
   "cell_type": "code",
   "execution_count": 30,
   "id": "fc993383-5944-48da-b0cd-e560df09f3de",
   "metadata": {},
   "outputs": [
    {
     "name": "stdout",
     "output_type": "stream",
     "text": [
      "\n"
     ]
    },
    {
     "data": {
      "image/png": "[encoded data removed]",
      "text/plain": [
       "<Figure size 1500x700 with 1 Axes>"
      ]
     },
     "metadata": {},
     "output_type": "display_data"
    }
   ],
   "source": [
    "# Aplicação de uma gráfico de barras para as Classes Normal e Fraudulentas\n",
    "\n",
    "print( )\n",
    "fig, ax = plt.subplots( figsize=(15, 7))\n",
    "\n",
    "gca()\n",
    "sns.countplot( x = 'Age', palette=sns.color_palette( [ 'lightblue' ] ), data=df_train, ax=ax )\n",
    "ax.set_title( 'QUANTITATIVO DE OPERAÇÕES POR FAIXA DE IDADE', pad=35, fontsize=13, color='#001233' )\n",
    "# plt.xticks( [ 0, 1 ], [ 'Sexo femininio', 'Sexo masculino' ], fontsize=10, color='#637061' )\n",
    "\n",
    "for i in ax.patches:\n",
    "      ax.annotate(format(round( i.get_height()), '.0f')+\"\",\n",
    "                                 (i.get_x() + i.get_width() / 2, \n",
    "                                  i.get_height() + 25),\n",
    "                                  ha='center',\n",
    "                                  va='baseline',\n",
    "                                  fontsize= 12,\n",
    "                                  color='#001233',\n",
    "                                  fontweight='ultralight',\n",
    "                                  xytext=(0, 5),\n",
    "                                  rotation= 0.0,\n",
    "                                  textcoords='offset pixels'), \n",
    "plt.tight_layout ()"
   ]
  },
  {
   "cell_type": "code",
   "execution_count": 31,
   "id": "aa19c14c-c22a-4580-858a-55a509928916",
   "metadata": {},
   "outputs": [
    {
     "data": {
      "text/html": [
       "<div>\n",
       "<style scoped>\n",
       "    .dataframe tbody tr th:only-of-type {\n",
       "        vertical-align: middle;\n",
       "    }\n",
       "\n",
       "    .dataframe tbody tr th {\n",
       "        vertical-align: top;\n",
       "    }\n",
       "\n",
       "    .dataframe thead th {\n",
       "        text-align: right;\n",
       "    }\n",
       "</style>\n",
       "<table border=\"1\" class=\"dataframe\">\n",
       "  <thead>\n",
       "    <tr style=\"text-align: right;\">\n",
       "      <th></th>\n",
       "      <th>Age</th>\n",
       "      <th>Purchase</th>\n",
       "    </tr>\n",
       "  </thead>\n",
       "  <tbody>\n",
       "    <tr>\n",
       "      <th>0</th>\n",
       "      <td>51-55</td>\n",
       "      <td>9534.81</td>\n",
       "    </tr>\n",
       "    <tr>\n",
       "      <th>1</th>\n",
       "      <td>55+</td>\n",
       "      <td>9336.28</td>\n",
       "    </tr>\n",
       "    <tr>\n",
       "      <th>2</th>\n",
       "      <td>36-45</td>\n",
       "      <td>9331.35</td>\n",
       "    </tr>\n",
       "    <tr>\n",
       "      <th>3</th>\n",
       "      <td>26-35</td>\n",
       "      <td>9252.69</td>\n",
       "    </tr>\n",
       "    <tr>\n",
       "      <th>4</th>\n",
       "      <td>46-50</td>\n",
       "      <td>9208.63</td>\n",
       "    </tr>\n",
       "    <tr>\n",
       "      <th>5</th>\n",
       "      <td>18-25</td>\n",
       "      <td>9169.66</td>\n",
       "    </tr>\n",
       "    <tr>\n",
       "      <th>6</th>\n",
       "      <td>0-17</td>\n",
       "      <td>8933.46</td>\n",
       "    </tr>\n",
       "  </tbody>\n",
       "</table>\n",
       "</div>"
      ],
      "text/plain": [
       "     Age  Purchase\n",
       "0  51-55   9534.81\n",
       "1    55+   9336.28\n",
       "2  36-45   9331.35\n",
       "3  26-35   9252.69\n",
       "4  46-50   9208.63\n",
       "5  18-25   9169.66\n",
       "6   0-17   8933.46"
      ]
     },
     "execution_count": 31,
     "metadata": {},
     "output_type": "execute_result"
    }
   ],
   "source": [
    "df_train[['Age','Purchase']].groupby(['Age'], as_index = True).mean().sort_values(by='Purchase',ascending=False).reset_index()"
   ]
  },
  {
   "cell_type": "code",
   "execution_count": 32,
   "id": "da196840-c05a-4965-b43c-151f5368cf7e",
   "metadata": {},
   "outputs": [
    {
     "data": {
      "text/html": [
       "<div>\n",
       "<style scoped>\n",
       "    .dataframe tbody tr th:only-of-type {\n",
       "        vertical-align: middle;\n",
       "    }\n",
       "\n",
       "    .dataframe tbody tr th {\n",
       "        vertical-align: top;\n",
       "    }\n",
       "\n",
       "    .dataframe thead th {\n",
       "        text-align: right;\n",
       "    }\n",
       "</style>\n",
       "<table border=\"1\" class=\"dataframe\">\n",
       "  <thead>\n",
       "    <tr style=\"text-align: right;\">\n",
       "      <th></th>\n",
       "      <th>Product_Category_3</th>\n",
       "      <th>Purchase</th>\n",
       "    </tr>\n",
       "  </thead>\n",
       "  <tbody>\n",
       "    <tr>\n",
       "      <th>0</th>\n",
       "      <td>0.00</td>\n",
       "      <td>8221.84</td>\n",
       "    </tr>\n",
       "    <tr>\n",
       "      <th>1</th>\n",
       "      <td>12.00</td>\n",
       "      <td>8715.51</td>\n",
       "    </tr>\n",
       "    <tr>\n",
       "      <th>2</th>\n",
       "      <td>4.00</td>\n",
       "      <td>9794.39</td>\n",
       "    </tr>\n",
       "    <tr>\n",
       "      <th>3</th>\n",
       "      <td>14.00</td>\n",
       "      <td>10052.59</td>\n",
       "    </tr>\n",
       "    <tr>\n",
       "      <th>4</th>\n",
       "      <td>9.00</td>\n",
       "      <td>10431.70</td>\n",
       "    </tr>\n",
       "    <tr>\n",
       "      <th>5</th>\n",
       "      <td>18.00</td>\n",
       "      <td>10993.98</td>\n",
       "    </tr>\n",
       "    <tr>\n",
       "      <th>6</th>\n",
       "      <td>17.00</td>\n",
       "      <td>11769.94</td>\n",
       "    </tr>\n",
       "    <tr>\n",
       "      <th>7</th>\n",
       "      <td>16.00</td>\n",
       "      <td>11981.89</td>\n",
       "    </tr>\n",
       "    <tr>\n",
       "      <th>8</th>\n",
       "      <td>11.00</td>\n",
       "      <td>12091.44</td>\n",
       "    </tr>\n",
       "    <tr>\n",
       "      <th>9</th>\n",
       "      <td>5.00</td>\n",
       "      <td>12117.79</td>\n",
       "    </tr>\n",
       "    <tr>\n",
       "      <th>10</th>\n",
       "      <td>15.00</td>\n",
       "      <td>12339.37</td>\n",
       "    </tr>\n",
       "    <tr>\n",
       "      <th>11</th>\n",
       "      <td>8.00</td>\n",
       "      <td>13024.92</td>\n",
       "    </tr>\n",
       "    <tr>\n",
       "      <th>12</th>\n",
       "      <td>13.00</td>\n",
       "      <td>13185.12</td>\n",
       "    </tr>\n",
       "    <tr>\n",
       "      <th>13</th>\n",
       "      <td>6.00</td>\n",
       "      <td>13194.31</td>\n",
       "    </tr>\n",
       "    <tr>\n",
       "      <th>14</th>\n",
       "      <td>10.00</td>\n",
       "      <td>13505.81</td>\n",
       "    </tr>\n",
       "    <tr>\n",
       "      <th>15</th>\n",
       "      <td>3.00</td>\n",
       "      <td>13939.70</td>\n",
       "    </tr>\n",
       "  </tbody>\n",
       "</table>\n",
       "</div>"
      ],
      "text/plain": [
       "    Product_Category_3  Purchase\n",
       "0                 0.00   8221.84\n",
       "1                12.00   8715.51\n",
       "2                 4.00   9794.39\n",
       "3                14.00  10052.59\n",
       "4                 9.00  10431.70\n",
       "5                18.00  10993.98\n",
       "6                17.00  11769.94\n",
       "7                16.00  11981.89\n",
       "8                11.00  12091.44\n",
       "9                 5.00  12117.79\n",
       "10               15.00  12339.37\n",
       "11                8.00  13024.92\n",
       "12               13.00  13185.12\n",
       "13                6.00  13194.31\n",
       "14               10.00  13505.81\n",
       "15                3.00  13939.70"
      ]
     },
     "execution_count": 32,
     "metadata": {},
     "output_type": "execute_result"
    }
   ],
   "source": [
    "df_train[['Product_Category_3','Purchase']].groupby(['Product_Category_3'], as_index = True).mean().sort_values(by='Purchase',ascending=True).reset_index()"
   ]
  },
  {
   "cell_type": "code",
   "execution_count": 33,
   "id": "fe8c5b25-cd9b-42a9-a59d-2cf2145823f2",
   "metadata": {
    "tags": []
   },
   "outputs": [
    {
     "data": {
      "text/html": [
       "<div>\n",
       "<style scoped>\n",
       "    .dataframe tbody tr th:only-of-type {\n",
       "        vertical-align: middle;\n",
       "    }\n",
       "\n",
       "    .dataframe tbody tr th {\n",
       "        vertical-align: top;\n",
       "    }\n",
       "\n",
       "    .dataframe thead th {\n",
       "        text-align: right;\n",
       "    }\n",
       "</style>\n",
       "<table border=\"1\" class=\"dataframe\">\n",
       "  <thead>\n",
       "    <tr style=\"text-align: right;\">\n",
       "      <th></th>\n",
       "      <th>City_Category</th>\n",
       "      <th>count</th>\n",
       "    </tr>\n",
       "  </thead>\n",
       "  <tbody>\n",
       "    <tr>\n",
       "      <th>0</th>\n",
       "      <td>B</td>\n",
       "      <td>231173</td>\n",
       "    </tr>\n",
       "    <tr>\n",
       "      <th>1</th>\n",
       "      <td>C</td>\n",
       "      <td>171175</td>\n",
       "    </tr>\n",
       "    <tr>\n",
       "      <th>2</th>\n",
       "      <td>A</td>\n",
       "      <td>147720</td>\n",
       "    </tr>\n",
       "  </tbody>\n",
       "</table>\n",
       "</div>"
      ],
      "text/plain": [
       "  City_Category   count\n",
       "0             B  231173\n",
       "1             C  171175\n",
       "2             A  147720"
      ]
     },
     "execution_count": 33,
     "metadata": {},
     "output_type": "execute_result"
    }
   ],
   "source": [
    "# Categoria e cidade com maior número de usuários\n",
    "\n",
    "df_train['City_Category'].value_counts().reset_index()"
   ]
  },
  {
   "cell_type": "code",
   "execution_count": 34,
   "id": "e83f4d9f-ddd3-4562-97a0-9a1490494b0f",
   "metadata": {
    "tags": []
   },
   "outputs": [
    {
     "data": {
      "text/html": [
       "<div>\n",
       "<style scoped>\n",
       "    .dataframe tbody tr th:only-of-type {\n",
       "        vertical-align: middle;\n",
       "    }\n",
       "\n",
       "    .dataframe tbody tr th {\n",
       "        vertical-align: top;\n",
       "    }\n",
       "\n",
       "    .dataframe thead th {\n",
       "        text-align: right;\n",
       "    }\n",
       "</style>\n",
       "<table border=\"1\" class=\"dataframe\">\n",
       "  <thead>\n",
       "    <tr style=\"text-align: right;\">\n",
       "      <th></th>\n",
       "      <th>City_Category</th>\n",
       "      <th>Purchase</th>\n",
       "    </tr>\n",
       "  </thead>\n",
       "  <tbody>\n",
       "    <tr>\n",
       "      <th>0</th>\n",
       "      <td>C</td>\n",
       "      <td>9719.92</td>\n",
       "    </tr>\n",
       "    <tr>\n",
       "      <th>1</th>\n",
       "      <td>B</td>\n",
       "      <td>9151.30</td>\n",
       "    </tr>\n",
       "    <tr>\n",
       "      <th>2</th>\n",
       "      <td>A</td>\n",
       "      <td>8911.94</td>\n",
       "    </tr>\n",
       "  </tbody>\n",
       "</table>\n",
       "</div>"
      ],
      "text/plain": [
       "  City_Category  Purchase\n",
       "0             C   9719.92\n",
       "1             B   9151.30\n",
       "2             A   8911.94"
      ]
     },
     "execution_count": 34,
     "metadata": {},
     "output_type": "execute_result"
    }
   ],
   "source": [
    "# Cidade ou categoria de cidade, que mais comprou em média\n",
    "\n",
    "df_train[['City_Category','Purchase']].groupby(['City_Category'], as_index = True).mean().sort_values(by='Purchase',ascending=False).reset_index()"
   ]
  },
  {
   "cell_type": "code",
   "execution_count": 35,
   "id": "312c6ace-0c3c-4e54-9606-b633ba377d6c",
   "metadata": {
    "tags": []
   },
   "outputs": [
    {
     "data": {
      "text/html": [
       "<div>\n",
       "<style scoped>\n",
       "    .dataframe tbody tr th:only-of-type {\n",
       "        vertical-align: middle;\n",
       "    }\n",
       "\n",
       "    .dataframe tbody tr th {\n",
       "        vertical-align: top;\n",
       "    }\n",
       "\n",
       "    .dataframe thead th {\n",
       "        text-align: right;\n",
       "    }\n",
       "</style>\n",
       "<table border=\"1\" class=\"dataframe\">\n",
       "  <thead>\n",
       "    <tr style=\"text-align: right;\">\n",
       "      <th></th>\n",
       "      <th>Stay_In_Current_City_Years</th>\n",
       "      <th>count</th>\n",
       "    </tr>\n",
       "  </thead>\n",
       "  <tbody>\n",
       "    <tr>\n",
       "      <th>0</th>\n",
       "      <td>1</td>\n",
       "      <td>193821</td>\n",
       "    </tr>\n",
       "    <tr>\n",
       "      <th>1</th>\n",
       "      <td>2</td>\n",
       "      <td>101838</td>\n",
       "    </tr>\n",
       "    <tr>\n",
       "      <th>2</th>\n",
       "      <td>3</td>\n",
       "      <td>95285</td>\n",
       "    </tr>\n",
       "    <tr>\n",
       "      <th>3</th>\n",
       "      <td>4+</td>\n",
       "      <td>84726</td>\n",
       "    </tr>\n",
       "    <tr>\n",
       "      <th>4</th>\n",
       "      <td>0</td>\n",
       "      <td>74398</td>\n",
       "    </tr>\n",
       "  </tbody>\n",
       "</table>\n",
       "</div>"
      ],
      "text/plain": [
       "  Stay_In_Current_City_Years   count\n",
       "0                          1  193821\n",
       "1                          2  101838\n",
       "2                          3   95285\n",
       "3                         4+   84726\n",
       "4                          0   74398"
      ]
     },
     "execution_count": 35,
     "metadata": {},
     "output_type": "execute_result"
    }
   ],
   "source": [
    "# Quantitativo por tempo de moradia nas cidades categorizadas. Na sua maioria, entre 6 mêses e um ano.\n",
    "\n",
    "df_train['Stay_In_Current_City_Years'].value_counts().reset_index()"
   ]
  },
  {
   "cell_type": "code",
   "execution_count": 36,
   "id": "326ad53d-4f54-4ff9-99cc-db9cc73c6193",
   "metadata": {
    "tags": []
   },
   "outputs": [
    {
     "name": "stdout",
     "output_type": "stream",
     "text": [
      "\n"
     ]
    },
    {
     "data": {
      "image/png": "[encoded data removed]",
      "text/plain": [
       "<Figure size 1000x600 with 1 Axes>"
      ]
     },
     "metadata": {},
     "output_type": "display_data"
    }
   ],
   "source": [
    "# Aplicação de uma gráfico de barras para as Classes Normal e Fraudulentas\n",
    "\n",
    "print( )\n",
    "fig, ax = plt.subplots( figsize=( 10, 6) )\n",
    "\n",
    "gca()\n",
    "sns.countplot( x = 'Stay_In_Current_City_Years', palette=sns.color_palette( [ '#90F1EF', '#EF233C' ] ), data=df_train, ax=ax )\n",
    "ax.set_title( 'QUANTITATIVO POR TEMPO DE MORADIA', pad=35, fontsize=10, color='#001233' )\n",
    "plt.xticks( fontsize=10, color='#637061' )\n",
    "\n",
    "for i in ax.patches:\n",
    "      ax.annotate(format(round( i.get_height()), '.0f')+\"\",\n",
    "                                 (i.get_x() + i.get_width() / 2, \n",
    "                                  i.get_height() + 25),\n",
    "                                  ha='center',\n",
    "                                  va='baseline',\n",
    "                                  fontsize= 10,\n",
    "                                  color='#001233',\n",
    "                                  fontweight='ultralight',\n",
    "                                  xytext=(0, 5),\n",
    "                                  rotation= 0.0,\n",
    "                                  textcoords='offset pixels'), \n",
    "plt.tight_layout ()"
   ]
  },
  {
   "cell_type": "markdown",
   "id": "fb2b6cd9-7a66-4898-8016-cb883fbf842a",
   "metadata": {},
   "source": [
    "____\n",
    "### Por default (0) False e (1) True\n",
    "  - Interpretação: 0 não é casado e 1 é casado\n",
    "   - Logo fica evidente que os usuários em sua maioria não são casados."
   ]
  },
  {
   "cell_type": "code",
   "execution_count": 37,
   "id": "26a24cdf-618c-4a77-a70e-84bd60a54fdd",
   "metadata": {
    "tags": []
   },
   "outputs": [
    {
     "data": {
      "text/plain": [
       "Gender  Marital_Status\n",
       "F       0                  78821\n",
       "        1                  56988\n",
       "M       0                 245910\n",
       "        1                 168349\n",
       "Name: count, dtype: int64"
      ]
     },
     "execution_count": 37,
     "metadata": {},
     "output_type": "execute_result"
    }
   ],
   "source": [
    "# Quantitativo por gênero do sexo feminino e masculino na base\n",
    "\n",
    "df_train.groupby('Gender')['Marital_Status'].value_counts()"
   ]
  },
  {
   "cell_type": "code",
   "execution_count": 38,
   "id": "3c7293ca-633f-4654-80c1-359e1f15de16",
   "metadata": {
    "tags": []
   },
   "outputs": [
    {
     "name": "stdout",
     "output_type": "stream",
     "text": [
      "\n"
     ]
    },
    {
     "data": {
      "image/png": "[encoded data removed]",
      "text/plain": [
       "<Figure size 1000x600 with 1 Axes>"
      ]
     },
     "metadata": {},
     "output_type": "display_data"
    }
   ],
   "source": [
    "# Aplicação de uma gráfico de barras para as Classes Normal e Fraudulentas\n",
    "\n",
    "print( )\n",
    "fig, ax = plt.subplots( figsize=( 10, 6) )\n",
    "\n",
    "gca()\n",
    "sns.countplot( x = 'Marital_Status', palette=sns.color_palette( [ '#90F1EF', '#EF233C' ] ), data=df_train, ax=ax )\n",
    "ax.set_title( 'QUANTITATIVO POR GÊNERO BASE INSTALADA', pad=35, fontsize=10, color='#001233' )\n",
    "plt.xticks( [ 0, 1 ], [ 'Sexo femininio', 'Sexo masculino' ], fontsize=10, color='#637061' )\n",
    "\n",
    "for i in ax.patches:\n",
    "      ax.annotate(format(round( i.get_height()), '.0f')+\"\",\n",
    "                                 (i.get_x() + i.get_width() / 2, \n",
    "                                  i.get_height() + 25),\n",
    "                                  ha='center',\n",
    "                                  va='baseline',\n",
    "                                  fontsize= 10,\n",
    "                                  color='#001233',\n",
    "                                  fontweight='ultralight',\n",
    "                                  xytext=(0, 5),\n",
    "                                  rotation= 0.0,\n",
    "                                  textcoords='offset pixels'), \n",
    "plt.tight_layout ()"
   ]
  },
  {
   "cell_type": "code",
   "execution_count": 39,
   "id": "b0e8d7ae-34a7-4650-92f3-68c1cf76f35c",
   "metadata": {},
   "outputs": [
    {
     "name": "stdout",
     "output_type": "stream",
     "text": [
      "\n"
     ]
    },
    {
     "data": {
      "image/png": "[encoded data removed]",
      "text/plain": [
       "<Figure size 1500x700 with 1 Axes>"
      ]
     },
     "metadata": {},
     "output_type": "display_data"
    }
   ],
   "source": [
    "# Aplicação de uma gráfico de barras para as Classes Normal e Fraudulentas\n",
    "\n",
    "print( )\n",
    "fig, ax = plt.subplots( figsize=(15, 7))\n",
    "\n",
    "gca()\n",
    "sns.countplot( x = ('Product_Category_1') , palette=sns.color_palette( [ '#90F1EF' ] ), data=df_train, ax=ax )\n",
    "ax.set_title( 'MONTA DE VENDAS POR PROD. CAT. 01 R$', pad=35, fontsize=13, color='#001233' )\n",
    "plt.xlabel('Qtde. Vendida Produto Cagegoria 1', fontsize=12, color='#001233')\n",
    "\n",
    "# Ajuste do range dos ticks\n",
    "# list_Of_Xticks = np.arange(0, 8, 5) \n",
    "# plt.xticks(list_Of_Xticks) \n",
    "\n",
    "# positions = pd.date_range(df_train.index[0], df_train.index[-1], freq='6m')\n",
    "# labels = positions.strftime('%Y-%m')\n",
    "\n",
    "# ax.xaxis.set_minor_locator(plt.NullLocator())\n",
    "# ax.set_xticks(positions[1:])\n",
    "# ax.set_xticklabels(labels[1:])\n",
    "\n",
    "for i in ax.patches:\n",
    "      ax.annotate(format(round( i.get_height()), '.0f')+\"\",\n",
    "                                 (i.get_x() + i.get_width() / 2, \n",
    "                                  i.get_height() + 25),\n",
    "                                  ha='center',\n",
    "                                  va='baseline',\n",
    "                                  color='#040046',\n",
    "                                  fontweight='ultralight',\n",
    "                                  xytext=(0, 5),\n",
    "                                  rotation= 0.0,\n",
    "                                  textcoords='offset pixels'), \n",
    "plt.tight_layout ()"
   ]
  },
  {
   "cell_type": "code",
   "execution_count": 40,
   "id": "7a1dc997-4ece-4f19-b87e-f18b9ec1b3cf",
   "metadata": {
    "tags": []
   },
   "outputs": [
    {
     "name": "stdout",
     "output_type": "stream",
     "text": [
      "\n"
     ]
    },
    {
     "data": {
      "image/png": "[encoded data removed]",
      "text/plain": [
       "<Figure size 1500x700 with 1 Axes>"
      ]
     },
     "metadata": {},
     "output_type": "display_data"
    }
   ],
   "source": [
    "# Aplicação de uma gráfico de barras para as Classes Normal e Fraudulentas\n",
    "\n",
    "print( )\n",
    "fig, ax = plt.subplots( figsize=(15, 7))\n",
    "\n",
    "gca()\n",
    "sns.countplot( x = ('Product_Category_2') , palette=sns.color_palette( [ '#90F1EF' ] ), data=df_train, ax=ax )\n",
    "ax.set_title( 'MONTA DE VENDAS POR PRODUTO CAT. 02 R$', pad=35, fontsize=13, color='#001233' )\n",
    "plt.xlabel('Qtde. Vendida Produto Cagegoria 2', fontsize=12, color='#001233')\n",
    "\n",
    "for i in ax.patches:\n",
    "      ax.annotate(format(round( i.get_height()), '.0f')+\"\",\n",
    "                                 (i.get_x() + i.get_width() / 2, \n",
    "                                  i.get_height() + 25),\n",
    "                                  ha='center',\n",
    "                                  va='baseline',\n",
    "                                  fontsize= 10,\n",
    "                                  color='#001233',\n",
    "                                  fontweight='ultralight',\n",
    "                                  xytext=(0, 5),\n",
    "                                  rotation= 0.0,\n",
    "                                  textcoords='offset pixels'), \n",
    "plt.tight_layout ()"
   ]
  },
  {
   "cell_type": "code",
   "execution_count": 45,
   "id": "0517556e-f917-4a3f-bfd8-af3043ab54cd",
   "metadata": {
    "tags": []
   },
   "outputs": [
    {
     "name": "stdout",
     "output_type": "stream",
     "text": [
      "\n"
     ]
    },
    {
     "data": {
      "image/png": "[encoded data removed]",
      "text/plain": [
       "<Figure size 1500x700 with 1 Axes>"
      ]
     },
     "metadata": {},
     "output_type": "display_data"
    }
   ],
   "source": [
    "# Aplicação de uma gráfico de barras para as Classes Normal e Fraudulentas\n",
    "\n",
    "print( )\n",
    "fig, ax = plt.subplots( figsize=(15, 7))\n",
    "\n",
    "gca()\n",
    "sns.countplot( x = ('Product_Category_3') , palette=sns.color_palette( [ '#90F1EF' ] ), data=df_train, ax=ax )\n",
    "ax.set_title( 'MONTA DE VENDAS POR PRODUTO CAT. 03 R$', pad=35, fontsize=13, color='#001233' )\n",
    "plt.xlabel('Qtde. Vendida Produto Cagegoria 3', fontsize=12, color='#001233')\n",
    "\n",
    "for i in ax.patches:\n",
    "      ax.annotate(format(round( i.get_height()), '.0f')+\"\",\n",
    "                                 (i.get_x() + i.get_width() / 2, \n",
    "                                  i.get_height() + 25),\n",
    "                                  ha='center',\n",
    "                                  va='baseline',\n",
    "                                  fontsize= 10,\n",
    "                                  color='#001233',\n",
    "                                  fontweight='ultralight',\n",
    "                                  xytext=(0, 5),\n",
    "                                  rotation= 0.0,\n",
    "                                  textcoords='offset pixels'), \n",
    "plt.tight_layout ()"
   ]
  },
  {
   "cell_type": "markdown",
   "id": "0857bb70-fe5e-42b0-a32b-c4ce7eee4ced",
   "metadata": {},
   "source": [
    "### Condiderações:\n",
    "\n",
    "   - Meu objetivo com esse projeto, foi mostrar como podemos através de técnicas em estatísticas e modelos matemáticos, extrair importantes informações para  cenarização. \n",
    "   \n",
    "     - Resumo do que tenho como percepção e entendimento após as análises.\n",
    "        - Em sua maioria, os usuários são do sexo maculino;\n",
    "        - Faixa etária entre 26 a 30 anos;\n",
    "        - Na maioria não são casados;\n",
    "        - Residem na cidade de categoria B;\n",
    "        - Moram em torno de 1 ano na cidade atual;\n",
    "        - E compraram mais produtos da categoria 1."
   ]
  },
  {
   "cell_type": "code",
   "execution_count": null,
   "id": "ba3a6d91-36e8-4651-b1d8-059b02118710",
   "metadata": {},
   "outputs": [],
   "source": [
    "# Abrindo o file_path dataset\n",
    "\n",
    "file_path = (r'./base/base_ab_testes.csv')\n",
    "df_tab = pd.read_csv(file_path).copy()\n",
    "\n",
    "print(f'Dimensao colunas:\\t', df_tab.shape[1])\n",
    "print(f'Dimensao entradas:\\t', df_tab.shape[0])\n",
    "\n",
    "df_tab.head()"
   ]
  },
  {
   "cell_type": "markdown",
   "id": "15d351ba-3294-44f3-89bc-a0cbfba6e785",
   "metadata": {},
   "source": [
    "___\n",
    "#### Teste A/B: \n",
    "   - Existe a forma de pagamento convencional e a empresea implementou uma nova foma de pagamento onde é possível realizar o preenchimento automático dos dados de cartão de crédito.\n",
    "\n",
    "     - ***Objetivo***: \n",
    "      - Definir se os clientes gastam mais com preenchimento automático da página de checkout do que com o preenchimento manual.\n",
    "   - Métrica: GMV (Gross Margin Revenue) médio\n",
    "\n",
    "- Group A = Preencimento automático\n",
    "- Group B = Preenchimento manual\n",
    "___"
   ]
  },
  {
   "cell_type": "code",
   "execution_count": null,
   "id": "b2fdb69e-d193-494e-86f4-e0e4a7c6accd",
   "metadata": {
    "tags": []
   },
   "outputs": [],
   "source": [
    "# H0: avg GMV A == avg GMV B \n",
    "# H0: avg GMV A <> avg GMV B"
   ]
  },
  {
   "cell_type": "code",
   "execution_count": null,
   "id": "2d1c061c-1b2b-4a2f-8fa4-7e839d4ed67f",
   "metadata": {
    "tags": []
   },
   "outputs": [],
   "source": [
    "# Nível de confiabilidade\n",
    "\n",
    "confidence = 0.95\n",
    "\n",
    "# Nível de significância \n",
    "significance = 0.05\n",
    "\n",
    "# Métricas da estatística \n",
    "power = 0.8"
   ]
  },
  {
   "cell_type": "code",
   "execution_count": null,
   "id": "145edba4-8d87-4d11-84fa-560d77b07104",
   "metadata": {
    "tags": []
   },
   "outputs": [],
   "source": [
    "df_tab.columns"
   ]
  },
  {
   "cell_type": "code",
   "execution_count": null,
   "id": "746bced2-dde8-4326-8f1b-3cd9ad67a64c",
   "metadata": {
    "tags": []
   },
   "outputs": [],
   "source": [
    "# Média e desvio da variável spent (gastos)\n",
    "\n",
    "df_tab['spent'].agg(['mean','std'])"
   ]
  },
  {
   "cell_type": "markdown",
   "id": "f706417f-d02c-43da-8c88-cb3f83640802",
   "metadata": {},
   "source": [
    "### Tamanho da amostra para os testes"
   ]
  },
  {
   "cell_type": "code",
   "execution_count": null,
   "id": "dc2c85ff-adc0-4824-99f6-8fbad0f9f232",
   "metadata": {
    "tags": []
   },
   "outputs": [],
   "source": [
    "metrica_inicial = 1883.453349 # métrica atual grupo A\n",
    "metrica_final   = metrica_inicial * (1 + 0.05) # métrica a alcançar grupo B\n",
    "metrica_desvio  = 1363.921546\n",
    "\n",
    "effect_size =(metrica_final - metrica_inicial) / metrica_desvio\n",
    "\n",
    "sample_n = sms.tt_ind_solve_power(\n",
    "                effect_size = effect_size, \n",
    "                alpha = significance, \n",
    "                power = power)\n",
    "sample_n = np.round(sample_n).astype(int)\n",
    "\n",
    "print(f'O tamanho total da amostra é:\\t\\t\\t {2*sample_n}')\n",
    "print(f'O tamanho da amostra do grupo de controle é:\\t {sample_n}')\n",
    "print(f'O tamanho da amostra do grupo de tratamento é:\\t {sample_n}')"
   ]
  },
  {
   "cell_type": "code",
   "execution_count": null,
   "id": "97480f99-cda3-4786-9f44-165db906335f",
   "metadata": {
    "tags": []
   },
   "outputs": [],
   "source": [
    "df_tab.isnull().sum()\n"
   ]
  },
  {
   "cell_type": "code",
   "execution_count": null,
   "id": "23e5a105-fb06-4582-8f12-ffd336e34126",
   "metadata": {},
   "outputs": [],
   "source": [
    "df_tab[['uid', 'group']].groupby('uid').count().reset_index().query( 'group > 1')"
   ]
  },
  {
   "cell_type": "code",
   "execution_count": null,
   "id": "32feb113-f570-4976-bd55-4ba493f23ef7",
   "metadata": {
    "tags": []
   },
   "outputs": [],
   "source": [
    "df_tab[['uid', 'group', 'gender']].groupby(['group', 'gender']).count().reset_index()"
   ]
  },
  {
   "cell_type": "code",
   "execution_count": null,
   "id": "17a9c106-049e-4af2-8f90-f50a336d7bfd",
   "metadata": {
    "tags": []
   },
   "outputs": [],
   "source": [
    "\n",
    "df_tab[['uid', 'group', 'device']].groupby(['group', 'device']).count().reset_index()"
   ]
  },
  {
   "cell_type": "code",
   "execution_count": null,
   "id": "ee091c5b-f878-429f-8926-25a13d534823",
   "metadata": {},
   "outputs": [],
   "source": [
    "# country/spent/purchases\n",
    "df_tab.groupby('group').agg( {'country': 'count',\n",
    "                              'spent': ['min', 'max', 'mean', 'std'],\n",
    "                              'purchases': ['min', 'max', 'mean', 'std']\n",
    "                              })"
   ]
  },
  {
   "cell_type": "code",
   "execution_count": null,
   "id": "2af71136-e6ba-4032-8658-a271c28a3dd2",
   "metadata": {},
   "outputs": [],
   "source": [
    "gca()\n",
    "df_tab.loc[df_tab['group'] == 'GRP A', 'purchases'].hist(bins=20);\n",
    "df_tab.loc[df_tab['group'] == 'GRP B', 'purchases'].hist(bins=20);"
   ]
  },
  {
   "cell_type": "code",
   "execution_count": null,
   "id": "50f1bd4e-6870-4f15-8cf8-0c26043fe993",
   "metadata": {},
   "outputs": [],
   "source": [
    "gca()\n",
    "df_tab.loc[df_tab['group'] == 'GRP B', 'purchases'].hist(bins=20);\n",
    "df_tab.loc[df_tab['group'] == 'GRP A', 'purchases'].hist(bins=20);"
   ]
  },
  {
   "cell_type": "code",
   "execution_count": null,
   "id": "85e58bef-4244-45a0-a806-ddaa9a9490e2",
   "metadata": {},
   "outputs": [],
   "source": [
    "df_tab[['uid', 'group']].groupby('group').count()"
   ]
  },
  {
   "cell_type": "code",
   "execution_count": null,
   "id": "f9932df8-a107-4e17-a937-9d3262fd3cc4",
   "metadata": {},
   "outputs": [],
   "source": [
    "plt.figure(figsize=(20, 15))\n",
    "\n",
    "plt.subplot(2,3,1)\n",
    "sns.boxplot(x=df_tab['group'], y=df_tab['purchases'], color='LightBlue')\n",
    "gca()\n",
    "plt.subplot(2,3,2)\n",
    "sns.boxplot(x=df_tab['group'], y=df_tab['spent'], color='LightBlue')\n",
    "gca()\n",
    "plt.subplot(2,3,3)\n",
    "sns.boxplot(x=df_tab['gender'], y=df_tab['purchases'], hue=df_tab['group'], color='LightBlue')\n",
    "gca()\n",
    "plt.subplot(2,3,4)\n",
    "sns.boxplot(x=df_tab['gender'], y=df_tab['spent'], hue=df_tab['group'], color='LightBlue')\n",
    "gca()\n",
    "plt.subplot(2,3,5)\n",
    "sns.boxplot(x=df_tab['gender'], y=df_tab['purchases'], hue=df_tab['group'], color='LightBlue')\n",
    "gca()\n",
    "plt.subplot(2,3,6)\n",
    "sns.boxplot(x=df_tab['device'], y=df_tab['spent'], hue=df_tab['group'], color='LightBlue');\n",
    "gca()"
   ]
  },
  {
   "cell_type": "code",
   "execution_count": null,
   "id": "f95c00fd-e938-4063-8b18-08acd9f08cff",
   "metadata": {},
   "outputs": [],
   "source": [
    "plt.figure(figsize=(20, 15))\n",
    "plt.subplot(2,1,1)\n",
    "sns.boxplot(x=df_tab['country'], y=df_tab['purchases'], hue=df_tab['group'], color='lightblue')\n",
    "gca()\n",
    "plt.subplot(2,1,2)\n",
    "sns.boxplot(x=df_tab['country'], y=df_tab['spent'], hue=df_tab['group'], color='lightblue');\n",
    "gca()"
   ]
  },
  {
   "cell_type": "code",
   "execution_count": null,
   "id": "5e52e586-779b-4047-b560-1a1b68202353",
   "metadata": {},
   "outputs": [],
   "source": [
    "sample_A = df_tab.loc[df_tab['group'] == 'GRP A', 'spent'].sample(n=sample_n, random_state = 42)\n",
    "sample_B = df_tab.loc[df_tab['group'] == 'GRP B', 'spent'].sample(n=sample_n, random_state = 42)"
   ]
  },
  {
   "cell_type": "code",
   "execution_count": null,
   "id": "f695b674-365a-45e8-bafb-6b13b771ddc1",
   "metadata": {},
   "outputs": [],
   "source": [
    "sample_A_mean = np.round(sample_A.mean(), 2)\n",
    "sample_A_std = np.round(sample_A.std(), 2)\n",
    "sample_B_mean = np.round(sample_B.mean(), 2)\n",
    "sample_B_std = np.round(sample_B.std(), 2)\n",
    "\n",
    "print(f'Média da amostra do grupo A: {sample_A_mean} <entre> {sample_A_std}')\n",
    "print(f'Média da amostra do grupo B: {sample_B_mean} <entre> {sample_B_std}')"
   ]
  },
  {
   "cell_type": "code",
   "execution_count": null,
   "id": "121cb366-54d7-4bf2-b39b-8a9d72bc96f7",
   "metadata": {},
   "outputs": [],
   "source": [
    "t_test, p_value = stats.ttest_ind( sample_A, sample_B)\n",
    "# print(p_value)\n",
    "print ( f'Resultado percentual:\\t{p_value:.2%}' )"
   ]
  },
  {
   "cell_type": "code",
   "execution_count": null,
   "id": "e90aa0ee-7168-481b-96da-b296cfecc7d7",
   "metadata": {},
   "outputs": [],
   "source": [
    "if p_value < significance:\n",
    "    print('Rejeita a hipótese nula: O preenchimento automático deu resultado')\n",
    "else:\n",
    "    print('Falha em rejeitar a hipótese nula: Não temos evidências para dizer que o preenchimento automático trouxe mudança')"
   ]
  },
  {
   "cell_type": "code",
   "execution_count": null,
   "id": "60c697e0-f798-46af-b0c3-850bbe59c0e7",
   "metadata": {},
   "outputs": [],
   "source": [
    "df_bra = df_tab.loc[df_tab['country'] == 'BRA', :]\n",
    "df_bra.head()"
   ]
  },
  {
   "cell_type": "code",
   "execution_count": null,
   "id": "7f6f961b-8b61-44c4-aa9c-7339af54d1d2",
   "metadata": {},
   "outputs": [],
   "source": [
    "# nível de confiança\n",
    "confidence_bra = 0.97\n",
    "\n",
    "# nível de significancia\n",
    "significance_bra = 0.03\n",
    "\n",
    "# poder estatístico\n",
    "power_bra = 0.8"
   ]
  },
  {
   "cell_type": "code",
   "execution_count": null,
   "id": "3463dcd8-c3e6-438e-9741-3a60dc1cf71d",
   "metadata": {},
   "outputs": [],
   "source": [
    "# valor de init_metric e std_mestric\n",
    "df_bra['spent'].agg(['mean', 'std'])"
   ]
  },
  {
   "cell_type": "code",
   "execution_count": null,
   "id": "328dca72-487f-497e-b03e-572f399ab401",
   "metadata": {
    "tags": []
   },
   "outputs": [],
   "source": [
    "init_metric_bra = 1902.860251 #métrica atual grupo A\n",
    "end_metric_bra = init_metric_bra * (1 + 0.05) #métrica a alcançar grupo B\n",
    "std_metric_bra = 1398.886279\n",
    "\n",
    "effect_size_bra =(end_metric_bra - init_metric_bra ) / std_metric_bra\n",
    "\n",
    "sample_n_bra = sms.tt_ind_solve_power(\n",
    "                effect_size = effect_size_bra, \n",
    "                alpha = significance_bra, \n",
    "                power = power_bra)\n",
    "sample_n_bra = np.round(sample_n_bra).astype(int)\n",
    "\n",
    "print(f'O tamanho total da amostra é de:\\t\\t\\t {2*sample_n_bra}')\n",
    "print(f'O tamanho da amostra do grupo de controle é de:\\t\\t {sample_n_bra}')\n",
    "print(f'O tamanho da amostra do grupo de tratamento é de:\\t {sample_n_bra}')"
   ]
  },
  {
   "cell_type": "code",
   "execution_count": null,
   "id": "d3c3a587-2b36-453e-96ea-fc0d605799e8",
   "metadata": {
    "tags": []
   },
   "outputs": [],
   "source": [
    "print(f'Número de colunas:\\t{df_bra.shape[1]}')\n",
    "print(f'Número de linhas:\\t{df_bra.shape[0]}')"
   ]
  },
  {
   "cell_type": "code",
   "execution_count": null,
   "id": "0b5a35d5-99a1-402d-9204-ebcda07adbe4",
   "metadata": {
    "tags": []
   },
   "outputs": [],
   "source": [
    "# gender\n",
    "df_bra[['uid', 'group', 'gender']].groupby(['group', 'gender']).count()"
   ]
  },
  {
   "cell_type": "code",
   "execution_count": null,
   "id": "77c134f2-0a8b-4ca3-9d50-f1b3b39bedc8",
   "metadata": {
    "tags": []
   },
   "outputs": [],
   "source": [
    "# device\n",
    "df_bra[['uid', 'group', 'device']].groupby(['group', 'device']).count()"
   ]
  },
  {
   "cell_type": "code",
   "execution_count": null,
   "id": "09ff27e3-c3f2-4002-a077-b5b07abf9480",
   "metadata": {
    "tags": []
   },
   "outputs": [],
   "source": [
    "# country/spent/purchases\n",
    "df_bra.groupby('group').agg( {'country': 'count',\n",
    "                           'spent': ['min', 'max', 'mean', 'std'],\n",
    "                           'purchases': ['min', 'max', 'mean', 'std']\n",
    "\n",
    "})"
   ]
  },
  {
   "cell_type": "code",
   "execution_count": null,
   "id": "18d7119e-520f-4552-9675-8e260d70b9f8",
   "metadata": {
    "tags": []
   },
   "outputs": [],
   "source": [
    "# homogeinidade geral dos grupos\n",
    "df_bra.loc[df_bra['group'] == 'GRP A', 'purchases'].hist(bins=20, color='orange');\n",
    "df_bra.loc[df_bra['group'] == 'GRP B', 'purchases'].hist(bins=20, color='lightblue');"
   ]
  },
  {
   "cell_type": "code",
   "execution_count": null,
   "id": "6b069783-e2a6-4a7d-aefe-d48b28514a68",
   "metadata": {
    "tags": []
   },
   "outputs": [],
   "source": [
    "df_bra.loc[df_bra['group'] == 'GRP B', 'purchases'].hist(bins=20, color='orange');\n",
    "df_bra.loc[df_bra['group'] == 'GRP A', 'purchases'].hist(bins=20, color='lightblue');"
   ]
  },
  {
   "cell_type": "code",
   "execution_count": null,
   "id": "f5e0be56-8dd0-4322-a34d-a46890e927c0",
   "metadata": {
    "tags": []
   },
   "outputs": [],
   "source": [
    "df_bra[['uid', 'group']].groupby('group').count()"
   ]
  },
  {
   "cell_type": "code",
   "execution_count": null,
   "id": "83ab7531-5c1e-43bd-929d-9aaf4f3b1434",
   "metadata": {
    "tags": []
   },
   "outputs": [],
   "source": [
    "sample_A_bra = df_bra.loc[df_bra['group'] == 'GRP A', 'spent'].sample(n=sample_n_bra, random_state = 42)\n",
    "sample_B_bra = df_bra.loc[df_bra['group'] == 'GRP B', 'spent'].sample(n=sample_n_bra, random_state = 42)"
   ]
  },
  {
   "cell_type": "code",
   "execution_count": null,
   "id": "4453a3b5-f50f-45a0-a404-4f949eee53cc",
   "metadata": {
    "tags": []
   },
   "outputs": [],
   "source": [
    "sample_A_bra_mean = np.round(sample_A_bra.mean(), 2)\n",
    "sample_A_bra_std = np.round(sample_A_bra.std(), 2)\n",
    "sample_B_bra_mean = np.round(sample_B_bra.mean(), 2)\n",
    "sample_B_bra_std = np.round(sample_B_bra.std(), 2)\n",
    "\n",
    "print(f'Média da amostra do grupo A:\\t {sample_A_bra_mean} +/- {sample_A_bra_std}')\n",
    "print(f'Média da amostra do grupo A:\\t {sample_B_bra_mean} +/- {sample_B_bra_std}')"
   ]
  },
  {
   "cell_type": "code",
   "execution_count": null,
   "id": "48ae9bb7-f2d6-4947-a9e0-949bdf8b2359",
   "metadata": {
    "tags": []
   },
   "outputs": [],
   "source": [
    "t_test_bra, p_value_bra = stats.ttest_ind(sample_A_bra, sample_B_bra)\n",
    "# print(p_value_bra)\n",
    "print ( f'Resultado percentual:\\t{p_value_bra:.2%}' )"
   ]
  },
  {
   "cell_type": "code",
   "execution_count": null,
   "id": "796c3489-6048-46af-b1f8-b7058d844dc7",
   "metadata": {
    "tags": []
   },
   "outputs": [],
   "source": [
    "# Conclusivo dos dados referente ao brasil\n",
    "\n",
    "if p_value_bra < significance_bra:\n",
    "    print('Rejeita hipótese nula: O preenchimento automático deu resultado!')\n",
    "else:\n",
    "    print('')\n",
    "    print(f'HIPÓTESE REJEITADA:\\t Não há evidências para afirmar que o preenchimento automático gerou incremento nas vendas.')\n"
   ]
  },
  {
   "cell_type": "markdown",
   "id": "a9f7cfe7-0e19-4437-a9f6-72231c534806",
   "metadata": {},
   "source": [
    "___\n",
    "### CONCLUSÃO DO PROJETO COM TESTES A/B\n",
    "  - Posso afirmar que em anállise dos dados de compras realizadas no `Brasil` não temos evidências que o preenchimento automático impactou nos gastos feitos pelos clientes da empresa. Ou seja, o fato de que o cliente ao deparar-se com um processo de automação, realmente provoda o aumento do volume de compras, não é um fator que influência diretamente o resultado quantitativo.\n",
    "  Por outro lado, do ponto de vista estratégico e experiência do cliente com os modelos de compras digitais, facilita o acesso aos meios digitais e a redução do tempo em preenchimentos redundantes, aumentando os indicadores de qualidade e eficiência das experiências do cliente.\n",
    "___"
   ]
  },
  {
   "cell_type": "markdown",
   "id": "bee7556a-c5a6-4079-adf7-ab2d708c1d3e",
   "metadata": {},
   "source": [
    "### PROCESSOS DE TESTES ESTATÍSTICOS E MODELOS BAYESIANO\n",
    "\n",
    "  - A ideia foi no primeiro momento explorar os dados e implementar testes de hipósteses sobre esses dados;\n",
    "  - Fazer teste A/B \n",
    "  - Bayesiano\n",
    "   - Obs.: Mesmo que ambas as abordagens possam obter o mesmo resultado final, o Teste Bayesiano foi escolhido por atender melhor às necessidades do nosso dia a dia, como mostraremos a seguir. Além disso, o método de Bayes é o primeiro passo para experimentos baseados em algoritmos de Multi-Armed Bandit , já citado no artigo do Murilo Cassiano, Gerente de Produto da Quero Educação.\n",
    "  - A Inferência Bayesiana interpreta a probabilidade como uma medida de confiança em um evento, ou seja, o quão confiante estamos do evento ocorrer [2]. No nosso caso, o evento que estamos tentando medir é se a alternativa B (ex: feature nova que queremos testar) é melhor que a alternativa A (recurso existente) em termos de ARPU .\n",
    "\n",
    "Medimos a confiança a priori p(A) de evento a partir de uma crença que já possuímos sobre o ele, e, em seguida, atualizamos nossa crença introduzindo os dados adquiridos (X) no teste para obter nossa crença a posteriori p ( A | X) utilizando o Teorema de Bayes , que pode ser ilustrado da seguinte forma:"
   ]
  },
  {
   "cell_type": "markdown",
   "id": "05cbf4dd-e0a6-46bb-b426-330026c5c271",
   "metadata": {},
   "source": [
    "___\n",
    "### PROCESSANDO DADOS DA EXTRAÇÃO DOS MEIOS ELETRÔNICOS\n",
    "  - Importação dos dados A e B para os trabalhos."
   ]
  },
  {
   "cell_type": "code",
   "execution_count": null,
   "id": "fea7ccf2-aa19-4428-9608-5a9951e3b0f2",
   "metadata": {},
   "outputs": [],
   "source": [
    "df_raw_A = {\n",
    "            'visits_A': [24186,22240,21915,24046,21620,21651,22624,25476,24323,26996,24418,26906,21262,20247,\n",
    "                         21377,21237,26087,25624,24754,23289,21968,21819,20614,1878,23902,21089,19559,16136,\n",
    "                         19584,16925,23675,26319,20691,21535,25220,22885,24725,25090,26551,24389,23229,24359,\n",
    "                         25755,25270,23617,21501,24459,23413,21180,19490,28164,19612,21471,27168,25076,25819,\n",
    "                         26386,26784,23836,26784,23879,24669,22962,24776,23591,20815,22421,25601,24885,20281,\n",
    "                         22752,716],\n",
    "\n",
    "            'clicks_A': [1642,1660,1728,1878,1234,1320,1826,2768,2940,3016,2060,3072,1984,1544,1496,1372,2278,\n",
    "                         2314,2284,1452,1810,2162,1410,1294,2096,1366,1262,1022,1444,1114,1688,2362,1210,1518,\n",
    "                         3646,1954,2146,2100,2794,2064,1886,1732,2878,1700,1968,1430,1254,1642,1558,1148,1282,\n",
    "                         1264,1568,2254,1416,1778,1895,1548,2072,2248,1682,1152,1540,1270,1848,1928,1464,1746,\n",
    "                         2222,1184,1170,62]\n",
    "\n",
    "        }"
   ]
  },
  {
   "cell_type": "code",
   "execution_count": null,
   "id": "49ce7ace-7c3b-43b6-8b2d-cf70580b1c85",
   "metadata": {
    "tags": []
   },
   "outputs": [],
   "source": [
    "df_raw_B = {\n",
    "            'visits_B': [24909,22986,22953,24896,22284,22564,23196,26238,24871,27869,25301,27779,22008,21020,\n",
    "                         22037,22006,27070,26169,25518,24043,22593,22195,21015,19337,24448,21765,19933,16672,\n",
    "                         20329,17638,24427,27232,24585,24896,20316,21468,21966,25987,23607,25487,25037,26214,\n",
    "                         25999,24272,22336,25271,24220,22014,20195,29069,25648,20316,28945,20320,22058,28055,\n",
    "                         25992,26678,26949,27701,24951,25561,23766,25646,24677,21441,23269,26265,25563,20869,\n",
    "                         23276,707],\n",
    "\n",
    "            'clicks_B': [1714,1778,1848,2008,1270,1372,1868,2872,3014,3110,2094,3278,1982,1648,1500,1362,2582,\n",
    "                         2326,2386,1540,1892,2160,1476,1336,2108,1418,1522,1078,1550,1156,1861,2288,1228,1602,\n",
    "                         3766,2000,2023,2166,3010,2010,1928,1890,2960,1716,1950,1534,1418,1796,1522,1224,1346,\n",
    "                         1350,1534,2436,1404,1790,2156,1546,2180,2574,1824,1162,1586,1390,1950,2020,1484,1818,\n",
    "                         2348,1280, 1136,60]\n",
    "                }"
   ]
  },
  {
   "cell_type": "code",
   "execution_count": null,
   "id": "d2d7dc01-56ab-42f4-b65a-a3b2bb2764ae",
   "metadata": {
    "tags": []
   },
   "outputs": [],
   "source": [
    "df = pd.concat([pd.DataFrame(df_raw_A), pd.DataFrame(df_raw_B)], axis=1)\n",
    "df.head()"
   ]
  },
  {
   "cell_type": "markdown",
   "id": "cdc146b5-f6fa-436e-9703-c3dda4cc01d0",
   "metadata": {},
   "source": [
    "### A/B FREQUÊNCIA"
   ]
  },
  {
   "cell_type": "code",
   "execution_count": null,
   "id": "69e26591-73fe-4bb4-ba70-fd4d2e62259b",
   "metadata": {
    "tags": []
   },
   "outputs": [],
   "source": [
    "df['acc_visits_A'] = np.cumsum(df['visits_A'])\n",
    "df['acc_visits_B'] = np.cumsum(df['visits_B'])\n",
    "\n",
    "df['acc_clicks_A'] = np.cumsum(df['clicks_A'])\n",
    "df['acc_clicks_B'] = np.cumsum(df['clicks_B'])\n",
    "\n",
    "df['convertion'] = ( df['clicks_A'] + df['clicks_B']) / ( df['visits_A'] + df['visits_B'] ) "
   ]
  },
  {
   "cell_type": "code",
   "execution_count": null,
   "id": "267be6fb-d0a5-4149-b20e-4a76f4c67110",
   "metadata": {
    "tags": []
   },
   "outputs": [],
   "source": [
    "numerador = (df['acc_clicks_B'] / df['acc_visits_B']) - (df['acc_clicks_A'] / df['acc_visits_A'])\n",
    "denominador = np.sqrt((df['convertion'] * ( 1 - df['convertion'])) * ((1/ df['acc_visits_A']) + (1/df['acc_visits_B'])))\n",
    "df['z'] = numerador / denominador"
   ]
  },
  {
   "cell_type": "code",
   "execution_count": null,
   "id": "06e2efaf-b77a-425b-b671-bb215b2f9027",
   "metadata": {
    "tags": []
   },
   "outputs": [],
   "source": [
    "df.head()"
   ]
  },
  {
   "cell_type": "code",
   "execution_count": null,
   "id": "daa334c1-64b0-47e6-9fa5-b97a88ebfb23",
   "metadata": {
    "tags": []
   },
   "outputs": [],
   "source": [
    "df['ctr_A'] = ( df['acc_clicks_A'] / df['acc_visits_A'] )\n",
    "df['ctr_B'] = ( df['acc_clicks_B'] / df['acc_visits_B'] )\n",
    "\n",
    "df['acc_ctr_A'] = df['ctr_A'].cumsum()\n",
    "df['acc_ctr_B'] = df['ctr_B'].cumsum()"
   ]
  },
  {
   "cell_type": "code",
   "execution_count": null,
   "id": "e91455bf-b3ec-4cf3-88ee-3c32f40b81a4",
   "metadata": {
    "tags": []
   },
   "outputs": [],
   "source": [
    "df.head()"
   ]
  },
  {
   "cell_type": "code",
   "execution_count": null,
   "id": "89a10f6a-2725-406f-ad3f-f57a82dac40c",
   "metadata": {
    "tags": []
   },
   "outputs": [],
   "source": [
    "f = plt.figure( figsize=(16,7) )\n",
    "gs0 = gridspec.GridSpec( 2, 2, figure=f, wspace=0.25, hspace=0.25 )\n",
    "\n",
    "ax1 = f.add_subplot( gs0[:1, :1])\n",
    "ax2 = f.add_subplot( gs0[1:, :1])\n",
    "\n",
    "ax3 = f.add_subplot( gs0[:, 1:])\n",
    "plt.tight_layout()\n",
    "ax1.plot( df['ctr_A'], label = 'ctr_A')\n",
    "ax1.plot( df['ctr_B'], label = 'ctr_B')\n",
    "ax1.legend()\n",
    "plt.tight_layout()\n",
    "ax2.plot( df['acc_ctr_A'], label = 'acc_ctr_A')\n",
    "ax2.plot( df['acc_ctr_B'], label = 'acc_ctr_B')\n",
    "ax2.legend()\n",
    "\n",
    "ax3.plot( 2*(1 - stats.norm.cdf(df['z'])) )\n",
    "ax3.hlines(0.05, 0, 72,linestyle = '--' ,color = 'red' );\n",
    "\n",
    "plt.tight_layout()"
   ]
  },
  {
   "cell_type": "code",
   "execution_count": null,
   "id": "6ba3fab8-ac04-46ae-99cf-777cc2a4f8e1",
   "metadata": {
    "tags": []
   },
   "outputs": [],
   "source": [
    "df1 = df.copy()"
   ]
  },
  {
   "cell_type": "code",
   "execution_count": null,
   "id": "a23913de-54a1-4c41-9208-f28dc37953b2",
   "metadata": {
    "tags": []
   },
   "outputs": [],
   "source": [
    "df1.head()"
   ]
  },
  {
   "cell_type": "code",
   "execution_count": null,
   "id": "7f1618f2-1dc9-4882-b317-9a910094e801",
   "metadata": {
    "tags": []
   },
   "outputs": [],
   "source": [
    "# Quantidade de amostras\n",
    "\n",
    "N_mc = 100000"
   ]
  },
  {
   "cell_type": "code",
   "execution_count": null,
   "id": "1f9edae7-e2ac-44d4-ad86-4f3c328ccae5",
   "metadata": {
    "tags": []
   },
   "outputs": [],
   "source": [
    "proba_b_better_a = []\n",
    "expected_loss_a  = []\n",
    "expected_loss_b  = []\n",
    "\n",
    "for day in range(len(df1)):\n",
    "        \n",
    "    u_a, var_a = stats.beta.stats( a= 1+ df1.loc[day, 'acc_clicks_A'],\n",
    "                                   b= 1 + (df1.loc[day, 'acc_visits_A'] - df1.loc[day, 'acc_clicks_A']),\n",
    "                                   moments= 'mv')\n",
    "\n",
    "    u_b, var_b = stats.beta.stats( a= 1+ df1.loc[day, 'acc_clicks_B'],\n",
    "                                   b= 1 + (df1.loc[day, 'acc_visits_B'] - df1.loc[day, 'acc_clicks_B']),\n",
    "                                   moments= 'mv')\n",
    "\n",
    "    # Amostras da distribuição normal A\n",
    "    x_a = np.random.normal( loc = u_a,\n",
    "                            scale = 1.25*np.sqrt( var_a ),\n",
    "                            size = N_mc)\n",
    "\n",
    "    # Amostras da distribuição normal B\n",
    "    x_b = np.random.normal( loc = u_b,\n",
    "                            scale = 1.25*np.sqrt( var_b ),\n",
    "                            size = N_mc)\n",
    "\n",
    "    #Distribuição beta da página A\n",
    "    fa = stats.beta.pdf( x_a,\n",
    "                        a = 1 + df1.loc[day, 'acc_clicks_A'],\n",
    "                        b = 1 + (df1.loc[day, 'acc_visits_A'] - df1.loc[day, 'acc_clicks_A']))\n",
    "\n",
    "    # Distribuição beta da página B\n",
    "    fb = stats.beta.pdf( x_b,\n",
    "                        a = 1 + df1.loc[day, 'acc_clicks_B'],\n",
    "                        b = 1 + (df1.loc[day, 'acc_visits_B'] - df1.loc[day, 'acc_clicks_B']))\n",
    "\n",
    "    # Distribuição normal da página A\n",
    "    ga = stats.norm.pdf( x_a,\n",
    "                        loc = u_a,\n",
    "                        scale = 1.25*np.sqrt(var_a))\n",
    "\n",
    "    # Distribuição normal da página B\n",
    "    gb = stats.norm.pdf( x_b,\n",
    "                        loc = u_b,\n",
    "                        scale = 1.25*np.sqrt(var_b))\n",
    "\n",
    "    # Beta/Normal\n",
    "    y = (fa*fb) / (ga*gb)\n",
    "\n",
    "    # Somente valores onde o B é maior do que A\n",
    "    yb = y[x_b >= x_a]\n",
    "\n",
    "    # Probabilidade de B ser melhor que A\n",
    "    p = ( 1 / N_mc)*np.sum(yb)\n",
    "\n",
    "    # Erro ao assumir B melhor que A\n",
    "    expected_loss_A = ( 1/N_mc ) * np.sum(((x_b - x_a)*y)[x_b >= x_a]) \n",
    "    expected_loss_B = ( 1/N_mc ) * np.sum(((x_a - x_b)*y)[x_a >= x_b]) \n",
    "\n",
    "    proba_b_better_a.append( p )\n",
    "    expected_loss_a.append(expected_loss_A)\n",
    "    expected_loss_b.append(expected_loss_B)"
   ]
  },
  {
   "cell_type": "code",
   "execution_count": null,
   "id": "21a0627b-e917-492a-831c-0acc1d38083a",
   "metadata": {
    "tags": []
   },
   "outputs": [],
   "source": [
    "fig, axs = plt.subplots(1, 2, figsize=(15, 6))\n",
    "\n",
    "axs[0].plot(proba_b_better_a)\n",
    "axs[1].plot( expected_loss_a, label='Erro ao escolher A')\n",
    "axs[1].plot( expected_loss_b, label='Erro ao escolher B')\n",
    "\n",
    "plt.legend();"
   ]
  },
  {
   "cell_type": "code",
   "execution_count": null,
   "id": "aebb15af-2167-4a49-8850-7d37990bbd41",
   "metadata": {
    "tags": []
   },
   "outputs": [],
   "source": [
    "print( \n",
    "      '\\nDBIAN TECHNOLOGY\\n',\n",
    "      '\\nData Scientist',\n",
    "      '\\nCiência de dados com aplicação de RPA\\n',\n",
    "      '\\nClaudio Fabian Stychnicki',\n",
    "      '\\nPhone/Whats: (47) 99237-4737',\n",
    "      '\\nBlumenau - SC\\n',\n",
    "      '\\nInformações complementares em meu linkedIn\\n',\n",
    "      '\\nThanks so musch!'\n",
    "      )"
   ]
  },
  {
   "cell_type": "markdown",
   "id": "cdb7359a-13e6-4d78-86e2-6a74a5877973",
   "metadata": {
    "id": "cdb7359a-13e6-4d78-86e2-6a74a5877973"
   },
   "source": [
    "___\n",
    "### Até o próximo!"
   ]
  },
  {
   "cell_type": "markdown",
   "id": "4de4f85c-5595-4ef2-9dfa-78d7d65d0054",
   "metadata": {},
   "source": [
    "___"
   ]
  }
 ],
 "metadata": {
  "colab": {
   "provenance": []
  },
  "kernelspec": {
   "display_name": "Python 3 (ipykernel)",
   "language": "python",
   "name": "python3"
  },
  "language_info": {
   "codemirror_mode": {
    "name": "ipython",
    "version": 3
   },
   "file_extension": ".py",
   "mimetype": "text/x-python",
   "name": "python",
   "nbconvert_exporter": "python",
   "pygments_lexer": "ipython3",
   "version": "3.11.5"
  },
  "vscode": {
   "interpreter": {
    "hash": "eca024455c4833da5ebd8d9f8d721333677c348aa809892c0b0eda440122e3a6"
   }
  }
 },
 "nbformat": 4,
 "nbformat_minor": 5
}
